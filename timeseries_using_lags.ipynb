{
 "cells": [
  {
   "cell_type": "markdown",
   "metadata": {},
   "source": [
    "### Import modules"
   ]
  },
  {
   "cell_type": "code",
   "execution_count": 1,
   "metadata": {},
   "outputs": [],
   "source": [
    "import numpy as np\n",
    "import pandas as pd\n",
    "import torch\n",
    "import torch.nn as nn\n",
    "\n",
    "from sklearn.model_selection import train_test_split, cross_validate, cross_val_score\n",
    "from sklearn.base import BaseEstimator, TransformerMixin\n",
    "from sklearn.compose import ColumnTransformer, make_column_transformer\n",
    "from sklearn.preprocessing import StandardScaler, MinMaxScaler\n",
    "from sklearn.pipeline import Pipeline, make_pipeline\n",
    "from sklearn.metrics import make_scorer\n",
    "from sklearn.dummy import DummyRegressor\n",
    "\n",
    "from xgboost import XGBRegressor\n",
    "from sklearn.ensemble import RandomForestRegressor\n",
    "from sklearn.linear_model import Ridge\n",
    "\n",
    "import altair as alt"
   ]
  },
  {
   "cell_type": "code",
   "execution_count": 2,
   "metadata": {},
   "outputs": [
    {
     "data": {
      "text/plain": [
       "DataTransformerRegistry.enable('data_server')"
      ]
     },
     "execution_count": 2,
     "metadata": {},
     "output_type": "execute_result"
    }
   ],
   "source": [
    "# Save a vega-lite spec and a PNG blob for each plot in the notebook\n",
    "alt.renderers.enable('mimetype')\n",
    "# Handle large data sets without embedding them in the notebook\n",
    "alt.data_transformers.enable('data_server')"
   ]
  },
  {
   "cell_type": "markdown",
   "metadata": {},
   "source": [
    "## Utility Functions and Classes"
   ]
  },
  {
   "cell_type": "code",
   "execution_count": 3,
   "metadata": {},
   "outputs": [],
   "source": [
    "# Function to plot the raw data\n",
    "def plot_data(data, x_axis, y_axis):\n",
    "    \"\"\"\n",
    "    Plots line chart of the time series data (y-axis) against time (x-axis)\n",
    "\n",
    "    Parameters\n",
    "    ----------\n",
    "    data: pd.DataFrame\n",
    "        input dataframe\n",
    "    x_axis: str\n",
    "        the name of the time(datetime) column \n",
    "    y_axis: str\n",
    "        the name of the time series data column\n",
    "\n",
    "    Returns\n",
    "    ----------\n",
    "    lines: altair.vegalite.v4.api.Chart\n",
    "        altair chart object \n",
    "    \"\"\"\n",
    "    data = data.reset_index()\n",
    "    lines = alt.Chart(data).mark_line().encode(\n",
    "        x=alt.X(x_axis),\n",
    "        y=alt.Y(y_axis)\n",
    "    ).properties(\n",
    "        width=700,\n",
    "        height=250\n",
    "    )\n",
    "    return lines"
   ]
  },
  {
   "cell_type": "code",
   "execution_count": 4,
   "metadata": {},
   "outputs": [],
   "source": [
    "# Generate lags\n",
    "def generate_lags(df, num_lags):\n",
    "    \"\"\"\n",
    "    Creates new features which are lags of the target variable\n",
    "    Parameters\n",
    "    ----------\n",
    "    df: pd.DataFrame\n",
    "        input dataframe\n",
    "    num_lags: int\n",
    "        the number of lags\n",
    "\n",
    "    Returns\n",
    "    ----------\n",
    "    df_tmp: pd.DataFrame\n",
    "        dataframe with lagged features created\n",
    "    \"\"\"\n",
    "    df_tmp = df.copy()\n",
    "    for n in range(1, num_lags+1):\n",
    "        df_tmp[f'lag{n}'] = df_tmp['target'].shift(n)\n",
    "    df_tmp = df_tmp.iloc[num_lags:]\n",
    "    return df_tmp"
   ]
  },
  {
   "cell_type": "code",
   "execution_count": 47,
   "metadata": {},
   "outputs": [],
   "source": [
    "# Custom transformer for automated feature extraction\n",
    "class UniveriateTimeSeriesAddFeatures(BaseEstimator, TransformerMixin):\n",
    "    def __init__(self, num_feats=4):\n",
    "        self.num_feats = num_feats\n",
    "        \n",
    "    def __extract_features(self, X):\n",
    "        \"\"\"\n",
    "        Creates new features from timestamp\n",
    "        Parameters\n",
    "        ----------\n",
    "        X: pd.DataFrame\n",
    "            input dataframe\n",
    "        \n",
    "        Returns\n",
    "        ----------\n",
    "        df_features: pd.DataFrame\n",
    "            dataframe with new features created\n",
    "        \"\"\"\n",
    "        df_features = X.copy()\n",
    "        df_features = (\n",
    "                df_features\n",
    "                .assign(hour = df_features.index.hour)\n",
    "                .assign(day = df_features.index.day)\n",
    "                .assign(month = df_features.index.month)\n",
    "                .assign(day_of_week = df_features.index.dayofweek)\n",
    "                # .assign(week_of_year = df.index.isocalendar().week)\n",
    "        )\n",
    "        df_features = df_features.reset_index()\n",
    "        return df_features\n",
    "    \n",
    "    def fit(self, X, y=None):\n",
    "        return self\n",
    "\n",
    "    def transform(self, X, y=None):\n",
    "        df_features = X.copy()\n",
    "        df_features = self.__extract_features(df_features)\n",
    "        df_features = df_features.iloc[:,1:]\n",
    "        return df_features"
   ]
  },
  {
   "cell_type": "code",
   "execution_count": 48,
   "metadata": {},
   "outputs": [],
   "source": [
    "# Function to collate results\n",
    "def mean_std_cross_val_scores(model, X_train, y_train, **kwargs):\n",
    "    \"\"\"\n",
    "    Returns mean and std of cross validation\n",
    "\n",
    "    Parameters\n",
    "    ----------\n",
    "    model :\n",
    "        scikit-learn model\n",
    "    X_train : numpy array or pandas DataFrame\n",
    "        X in the training data\n",
    "    y_train :\n",
    "        y in the training data\n",
    "\n",
    "    Returns\n",
    "    ----------\n",
    "        pandas Series with mean scores from cross_validation\n",
    "    \"\"\"\n",
    "\n",
    "    scores = cross_validate(model, X_train, y_train, **kwargs)\n",
    "\n",
    "    mean_scores = pd.DataFrame(scores).mean()\n",
    "    std_scores = pd.DataFrame(scores).std()\n",
    "    out_col = []\n",
    "\n",
    "    for i in range(len(mean_scores)):\n",
    "        out_col.append((f\"%0.3f (+/- %0.3f)\" % (mean_scores[i], std_scores[i])))\n",
    "\n",
    "    return pd.Series(data=out_col, index=mean_scores.index)"
   ]
  },
  {
   "cell_type": "code",
   "execution_count": 49,
   "metadata": {},
   "outputs": [],
   "source": [
    "# Function to calculate MAPE\n",
    "def mape(true, pred):\n",
    "    return 100.0 * np.mean(np.abs((pred - true) / true))"
   ]
  },
  {
   "cell_type": "markdown",
   "metadata": {},
   "source": [
    "## Read the data"
   ]
  },
  {
   "cell_type": "code",
   "execution_count": 50,
   "metadata": {},
   "outputs": [
    {
     "data": {
      "text/html": [
       "<div>\n",
       "<style scoped>\n",
       "    .dataframe tbody tr th:only-of-type {\n",
       "        vertical-align: middle;\n",
       "    }\n",
       "\n",
       "    .dataframe tbody tr th {\n",
       "        vertical-align: top;\n",
       "    }\n",
       "\n",
       "    .dataframe thead th {\n",
       "        text-align: right;\n",
       "    }\n",
       "</style>\n",
       "<table border=\"1\" class=\"dataframe\">\n",
       "  <thead>\n",
       "    <tr style=\"text-align: right;\">\n",
       "      <th></th>\n",
       "      <th>target</th>\n",
       "    </tr>\n",
       "    <tr>\n",
       "      <th>Datetime</th>\n",
       "      <th></th>\n",
       "    </tr>\n",
       "  </thead>\n",
       "  <tbody>\n",
       "    <tr>\n",
       "      <th>2002-01-01 01:00:00</th>\n",
       "      <td>30393.0</td>\n",
       "    </tr>\n",
       "    <tr>\n",
       "      <th>2002-01-01 02:00:00</th>\n",
       "      <td>29265.0</td>\n",
       "    </tr>\n",
       "    <tr>\n",
       "      <th>2002-01-01 03:00:00</th>\n",
       "      <td>28357.0</td>\n",
       "    </tr>\n",
       "    <tr>\n",
       "      <th>2002-01-01 04:00:00</th>\n",
       "      <td>27899.0</td>\n",
       "    </tr>\n",
       "    <tr>\n",
       "      <th>2002-01-01 05:00:00</th>\n",
       "      <td>28057.0</td>\n",
       "    </tr>\n",
       "  </tbody>\n",
       "</table>\n",
       "</div>"
      ],
      "text/plain": [
       "                      target\n",
       "Datetime                    \n",
       "2002-01-01 01:00:00  30393.0\n",
       "2002-01-01 02:00:00  29265.0\n",
       "2002-01-01 03:00:00  28357.0\n",
       "2002-01-01 04:00:00  27899.0\n",
       "2002-01-01 05:00:00  28057.0"
      ]
     },
     "execution_count": 50,
     "metadata": {},
     "output_type": "execute_result"
    }
   ],
   "source": [
    "# Read the data\n",
    "df = pd.read_csv('data/PJME_hourly.csv')\n",
    "\n",
    "# Remove spaces from column names\n",
    "df.columns = df.columns.str.replace(' ', '')\n",
    "\n",
    "# Convert Datetime column to datetime data type\n",
    "df['Datetime'] = pd.to_datetime(df['Datetime'])\n",
    "\n",
    "# Set index to datetime column\n",
    "df = df.set_index('Datetime')\n",
    "\n",
    "# Sort the index to ascending order\n",
    "df = df.sort_index()\n",
    "\n",
    "# Rename the PJME_MW column to target column\n",
    "df = df.rename(columns={'PJME_MW': 'target'})\n",
    "\n",
    "# Check head of the resulting dataframe\n",
    "df.head()"
   ]
  },
  {
   "cell_type": "markdown",
   "metadata": {},
   "source": [
    "## Split into train and test"
   ]
  },
  {
   "cell_type": "code",
   "execution_count": 51,
   "metadata": {},
   "outputs": [
    {
     "name": "stdout",
     "output_type": "stream",
     "text": [
      "(116292, 1)\n",
      "(29074, 1)\n"
     ]
    }
   ],
   "source": [
    "df_train, df_test = train_test_split(df, test_size=0.2, shuffle=False, random_state=123)\n",
    "print(df_train.shape)\n",
    "print(df_test.shape)"
   ]
  },
  {
   "cell_type": "markdown",
   "metadata": {},
   "source": [
    "## Visualize the data - Basic EDA"
   ]
  },
  {
   "cell_type": "code",
   "execution_count": 52,
   "metadata": {},
   "outputs": [
    {
     "data": {
      "application/vnd.vegalite.v4+json": {
       "$schema": "https://vega.github.io/schema/vega-lite/v4.8.1.json",
       "config": {
        "view": {
         "continuousHeight": 300,
         "continuousWidth": 400
        }
       },
       "data": {
        "url": "http://localhost:15495/b9335396beb1735a7907083fcce6b1ea.json"
       },
       "encoding": {
        "x": {
         "field": "Datetime",
         "type": "temporal"
        },
        "y": {
         "field": "target",
         "type": "quantitative"
        }
       },
       "height": 250,
       "mark": "line",
       "width": 700
      },
      "image/png": "[encoded data removed]",
      "text/plain": [
       "<VegaLite 4 object>\n",
       "\n",
       "If you see this message, it means the renderer has not been properly enabled\n",
       "for the frontend that you are using. For more information, see\n",
       "https://altair-viz.github.io/user_guide/troubleshooting.html\n"
      ]
     },
     "execution_count": 52,
     "metadata": {},
     "output_type": "execute_result"
    }
   ],
   "source": [
    "plot_data(df_train, x_axis='Datetime', y_axis='target')"
   ]
  },
  {
   "cell_type": "markdown",
   "metadata": {},
   "source": [
    "## Separate train and test "
   ]
  },
  {
   "cell_type": "markdown",
   "metadata": {},
   "source": [
    "#### Total Lags = 10"
   ]
  },
  {
   "cell_type": "code",
   "execution_count": 53,
   "metadata": {},
   "outputs": [],
   "source": [
    "# Total lags defined\n",
    "tot_lags = 10\n",
    "df_train = generate_lags(df=df_train, num_lags=tot_lags)\n",
    "df_test = generate_lags(df=df_test, num_lags=tot_lags)"
   ]
  },
  {
   "cell_type": "code",
   "execution_count": 54,
   "metadata": {},
   "outputs": [
    {
     "data": {
      "text/html": [
       "<div>\n",
       "<style scoped>\n",
       "    .dataframe tbody tr th:only-of-type {\n",
       "        vertical-align: middle;\n",
       "    }\n",
       "\n",
       "    .dataframe tbody tr th {\n",
       "        vertical-align: top;\n",
       "    }\n",
       "\n",
       "    .dataframe thead th {\n",
       "        text-align: right;\n",
       "    }\n",
       "</style>\n",
       "<table border=\"1\" class=\"dataframe\">\n",
       "  <thead>\n",
       "    <tr style=\"text-align: right;\">\n",
       "      <th></th>\n",
       "      <th>target</th>\n",
       "      <th>lag1</th>\n",
       "      <th>lag2</th>\n",
       "      <th>lag3</th>\n",
       "      <th>lag4</th>\n",
       "      <th>lag5</th>\n",
       "      <th>lag6</th>\n",
       "      <th>lag7</th>\n",
       "      <th>lag8</th>\n",
       "      <th>lag9</th>\n",
       "      <th>lag10</th>\n",
       "    </tr>\n",
       "    <tr>\n",
       "      <th>Datetime</th>\n",
       "      <th></th>\n",
       "      <th></th>\n",
       "      <th></th>\n",
       "      <th></th>\n",
       "      <th></th>\n",
       "      <th></th>\n",
       "      <th></th>\n",
       "      <th></th>\n",
       "      <th></th>\n",
       "      <th></th>\n",
       "      <th></th>\n",
       "    </tr>\n",
       "  </thead>\n",
       "  <tbody>\n",
       "    <tr>\n",
       "      <th>2015-04-10 01:00:00</th>\n",
       "      <td>26208.0</td>\n",
       "      <td>27846.0</td>\n",
       "      <td>30060.0</td>\n",
       "      <td>32363.0</td>\n",
       "      <td>33755.0</td>\n",
       "      <td>33843.0</td>\n",
       "      <td>33012.0</td>\n",
       "      <td>32707.0</td>\n",
       "      <td>32209.0</td>\n",
       "      <td>32049.0</td>\n",
       "      <td>32204.0</td>\n",
       "    </tr>\n",
       "    <tr>\n",
       "      <th>2015-04-10 02:00:00</th>\n",
       "      <td>25240.0</td>\n",
       "      <td>26208.0</td>\n",
       "      <td>27846.0</td>\n",
       "      <td>30060.0</td>\n",
       "      <td>32363.0</td>\n",
       "      <td>33755.0</td>\n",
       "      <td>33843.0</td>\n",
       "      <td>33012.0</td>\n",
       "      <td>32707.0</td>\n",
       "      <td>32209.0</td>\n",
       "      <td>32049.0</td>\n",
       "    </tr>\n",
       "    <tr>\n",
       "      <th>2015-04-10 03:00:00</th>\n",
       "      <td>24753.0</td>\n",
       "      <td>25240.0</td>\n",
       "      <td>26208.0</td>\n",
       "      <td>27846.0</td>\n",
       "      <td>30060.0</td>\n",
       "      <td>32363.0</td>\n",
       "      <td>33755.0</td>\n",
       "      <td>33843.0</td>\n",
       "      <td>33012.0</td>\n",
       "      <td>32707.0</td>\n",
       "      <td>32209.0</td>\n",
       "    </tr>\n",
       "    <tr>\n",
       "      <th>2015-04-10 04:00:00</th>\n",
       "      <td>24694.0</td>\n",
       "      <td>24753.0</td>\n",
       "      <td>25240.0</td>\n",
       "      <td>26208.0</td>\n",
       "      <td>27846.0</td>\n",
       "      <td>30060.0</td>\n",
       "      <td>32363.0</td>\n",
       "      <td>33755.0</td>\n",
       "      <td>33843.0</td>\n",
       "      <td>33012.0</td>\n",
       "      <td>32707.0</td>\n",
       "    </tr>\n",
       "    <tr>\n",
       "      <th>2015-04-10 05:00:00</th>\n",
       "      <td>25232.0</td>\n",
       "      <td>24694.0</td>\n",
       "      <td>24753.0</td>\n",
       "      <td>25240.0</td>\n",
       "      <td>26208.0</td>\n",
       "      <td>27846.0</td>\n",
       "      <td>30060.0</td>\n",
       "      <td>32363.0</td>\n",
       "      <td>33755.0</td>\n",
       "      <td>33843.0</td>\n",
       "      <td>33012.0</td>\n",
       "    </tr>\n",
       "  </tbody>\n",
       "</table>\n",
       "</div>"
      ],
      "text/plain": [
       "                      target     lag1     lag2     lag3     lag4     lag5  \\\n",
       "Datetime                                                                    \n",
       "2015-04-10 01:00:00  26208.0  27846.0  30060.0  32363.0  33755.0  33843.0   \n",
       "2015-04-10 02:00:00  25240.0  26208.0  27846.0  30060.0  32363.0  33755.0   \n",
       "2015-04-10 03:00:00  24753.0  25240.0  26208.0  27846.0  30060.0  32363.0   \n",
       "2015-04-10 04:00:00  24694.0  24753.0  25240.0  26208.0  27846.0  30060.0   \n",
       "2015-04-10 05:00:00  25232.0  24694.0  24753.0  25240.0  26208.0  27846.0   \n",
       "\n",
       "                        lag6     lag7     lag8     lag9    lag10  \n",
       "Datetime                                                          \n",
       "2015-04-10 01:00:00  33012.0  32707.0  32209.0  32049.0  32204.0  \n",
       "2015-04-10 02:00:00  33843.0  33012.0  32707.0  32209.0  32049.0  \n",
       "2015-04-10 03:00:00  33755.0  33843.0  33012.0  32707.0  32209.0  \n",
       "2015-04-10 04:00:00  32363.0  33755.0  33843.0  33012.0  32707.0  \n",
       "2015-04-10 05:00:00  30060.0  32363.0  33755.0  33843.0  33012.0  "
      ]
     },
     "execution_count": 54,
     "metadata": {},
     "output_type": "execute_result"
    }
   ],
   "source": [
    "df_test.head()"
   ]
  },
  {
   "cell_type": "code",
   "execution_count": 55,
   "metadata": {},
   "outputs": [
    {
     "name": "stdout",
     "output_type": "stream",
     "text": [
      "Shape of X_train and y_train: ((116282, 10), (116282,))\n",
      "Shape of X_test and y_test: ((29064, 10), (29064,))\n"
     ]
    }
   ],
   "source": [
    "X_train, y_train = (\n",
    "    df_train.drop(columns=['target']),\n",
    "    df_train['target']\n",
    ")\n",
    "X_test, y_test = (\n",
    "    df_test.drop(columns=['target']),\n",
    "    df_test['target']\n",
    ")\n",
    "\n",
    "# Print shapes of the resulting train and test data sets\n",
    "print(f'Shape of X_train and y_train: {X_train.shape, y_train.shape}')\n",
    "print(f'Shape of X_test and y_test: {X_test.shape, y_test.shape}')"
   ]
  },
  {
   "cell_type": "markdown",
   "metadata": {},
   "source": [
    "## Feature Engineering Using Pipeline Transformations"
   ]
  },
  {
   "cell_type": "code",
   "execution_count": 57,
   "metadata": {},
   "outputs": [],
   "source": [
    "preprocessor = Pipeline(\n",
    "    [\n",
    "        ('add_lag_step', UniveriateTimeSeriesAddFeatures()),\n",
    "        ('stdscaler', StandardScaler())\n",
    "    ]\n",
    ")"
   ]
  },
  {
   "cell_type": "markdown",
   "metadata": {},
   "source": [
    "## Models"
   ]
  },
  {
   "cell_type": "code",
   "execution_count": 58,
   "metadata": {},
   "outputs": [],
   "source": [
    "# make a scorer function that we can pass into cross-validation\n",
    "mape_scorer = make_scorer(mape, greater_is_better=False)\n",
    "\n",
    "scoring_metrics = {\n",
    "    \"neg RMSE\": \"neg_root_mean_squared_error\",\n",
    "    \"r2\": \"r2\",\n",
    "    \"mape\": mape_scorer,\n",
    "}"
   ]
  },
  {
   "cell_type": "code",
   "execution_count": 59,
   "metadata": {},
   "outputs": [],
   "source": [
    "results = {}"
   ]
  },
  {
   "cell_type": "markdown",
   "metadata": {},
   "source": [
    "#### Dummy Regressor"
   ]
  },
  {
   "cell_type": "code",
   "execution_count": 60,
   "metadata": {},
   "outputs": [
    {
     "data": {
      "text/html": [
       "<div>\n",
       "<style scoped>\n",
       "    .dataframe tbody tr th:only-of-type {\n",
       "        vertical-align: middle;\n",
       "    }\n",
       "\n",
       "    .dataframe tbody tr th {\n",
       "        vertical-align: top;\n",
       "    }\n",
       "\n",
       "    .dataframe thead th {\n",
       "        text-align: right;\n",
       "    }\n",
       "</style>\n",
       "<table border=\"1\" class=\"dataframe\">\n",
       "  <thead>\n",
       "    <tr style=\"text-align: right;\">\n",
       "      <th></th>\n",
       "      <th>Dummy</th>\n",
       "    </tr>\n",
       "  </thead>\n",
       "  <tbody>\n",
       "    <tr>\n",
       "      <th>fit_time</th>\n",
       "      <td>0.011 (+/- 0.011)</td>\n",
       "    </tr>\n",
       "    <tr>\n",
       "      <th>score_time</th>\n",
       "      <td>0.002 (+/- 0.002)</td>\n",
       "    </tr>\n",
       "    <tr>\n",
       "      <th>test_neg RMSE</th>\n",
       "      <td>-6437.908 (+/- 249.131)</td>\n",
       "    </tr>\n",
       "    <tr>\n",
       "      <th>train_neg RMSE</th>\n",
       "      <td>-6433.014 (+/- 63.618)</td>\n",
       "    </tr>\n",
       "    <tr>\n",
       "      <th>test_r2</th>\n",
       "      <td>-0.007 (+/- 0.006)</td>\n",
       "    </tr>\n",
       "    <tr>\n",
       "      <th>train_r2</th>\n",
       "      <td>0.000 (+/- 0.000)</td>\n",
       "    </tr>\n",
       "    <tr>\n",
       "      <th>test_mape</th>\n",
       "      <td>-15.875 (+/- 0.611)</td>\n",
       "    </tr>\n",
       "    <tr>\n",
       "      <th>train_mape</th>\n",
       "      <td>-15.854 (+/- 0.091)</td>\n",
       "    </tr>\n",
       "  </tbody>\n",
       "</table>\n",
       "</div>"
      ],
      "text/plain": [
       "                                  Dummy\n",
       "fit_time              0.011 (+/- 0.011)\n",
       "score_time            0.002 (+/- 0.002)\n",
       "test_neg RMSE   -6437.908 (+/- 249.131)\n",
       "train_neg RMSE   -6433.014 (+/- 63.618)\n",
       "test_r2              -0.007 (+/- 0.006)\n",
       "train_r2              0.000 (+/- 0.000)\n",
       "test_mape           -15.875 (+/- 0.611)\n",
       "train_mape          -15.854 (+/- 0.091)"
      ]
     },
     "execution_count": 60,
     "metadata": {},
     "output_type": "execute_result"
    }
   ],
   "source": [
    "dummy = DummyRegressor()\n",
    "\n",
    "results[\"Dummy\"] = mean_std_cross_val_scores(\n",
    "    dummy, X_train, y_train, return_train_score=True, scoring=scoring_metrics\n",
    ")\n",
    "\n",
    "pd.DataFrame(results)"
   ]
  },
  {
   "cell_type": "markdown",
   "metadata": {},
   "source": [
    "#### Other Models"
   ]
  },
  {
   "cell_type": "code",
   "execution_count": 61,
   "metadata": {},
   "outputs": [],
   "source": [
    "pipe_ridge = make_pipeline(preprocessor, Ridge(random_state=123))\n",
    "pipe_xgb = make_pipeline(preprocessor, XGBRegressor(random_state=123))\n",
    "pipe_rf = make_pipeline(preprocessor, RandomForestRegressor(random_state=123))\n",
    "\n",
    "models = {\n",
    "    'ridge': pipe_ridge,\n",
    "    'xgboost': pipe_xgb,\n",
    "    'rf_regressor': pipe_rf\n",
    "}"
   ]
  },
  {
   "cell_type": "code",
   "execution_count": 62,
   "metadata": {},
   "outputs": [
    {
     "data": {
      "text/html": [
       "<div>\n",
       "<style scoped>\n",
       "    .dataframe tbody tr th:only-of-type {\n",
       "        vertical-align: middle;\n",
       "    }\n",
       "\n",
       "    .dataframe tbody tr th {\n",
       "        vertical-align: top;\n",
       "    }\n",
       "\n",
       "    .dataframe thead th {\n",
       "        text-align: right;\n",
       "    }\n",
       "</style>\n",
       "<table border=\"1\" class=\"dataframe\">\n",
       "  <thead>\n",
       "    <tr style=\"text-align: right;\">\n",
       "      <th></th>\n",
       "      <th>Dummy</th>\n",
       "      <th>ridge</th>\n",
       "      <th>xgboost</th>\n",
       "      <th>rf_regressor</th>\n",
       "    </tr>\n",
       "  </thead>\n",
       "  <tbody>\n",
       "    <tr>\n",
       "      <th>fit_time</th>\n",
       "      <td>0.011 (+/- 0.011)</td>\n",
       "      <td>0.072 (+/- 0.062)</td>\n",
       "      <td>5.307 (+/- 0.063)</td>\n",
       "      <td>72.459 (+/- 0.453)</td>\n",
       "    </tr>\n",
       "    <tr>\n",
       "      <th>score_time</th>\n",
       "      <td>0.002 (+/- 0.002)</td>\n",
       "      <td>0.010 (+/- 0.003)</td>\n",
       "      <td>0.026 (+/- 0.006)</td>\n",
       "      <td>0.799 (+/- 0.056)</td>\n",
       "    </tr>\n",
       "    <tr>\n",
       "      <th>test_neg RMSE</th>\n",
       "      <td>-6437.908 (+/- 249.131)</td>\n",
       "      <td>-664.090 (+/- 30.887)</td>\n",
       "      <td>-329.928 (+/- 17.854)</td>\n",
       "      <td>-329.608 (+/- 22.237)</td>\n",
       "    </tr>\n",
       "    <tr>\n",
       "      <th>train_neg RMSE</th>\n",
       "      <td>-6433.014 (+/- 63.618)</td>\n",
       "      <td>-664.094 (+/- 7.687)</td>\n",
       "      <td>-279.970 (+/- 3.244)</td>\n",
       "      <td>-118.130 (+/- 0.982)</td>\n",
       "    </tr>\n",
       "    <tr>\n",
       "      <th>test_r2</th>\n",
       "      <td>-0.007 (+/- 0.006)</td>\n",
       "      <td>0.989 (+/- 0.001)</td>\n",
       "      <td>0.997 (+/- 0.000)</td>\n",
       "      <td>0.997 (+/- 0.001)</td>\n",
       "    </tr>\n",
       "    <tr>\n",
       "      <th>train_r2</th>\n",
       "      <td>0.000 (+/- 0.000)</td>\n",
       "      <td>0.989 (+/- 0.000)</td>\n",
       "      <td>0.998 (+/- 0.000)</td>\n",
       "      <td>1.000 (+/- 0.000)</td>\n",
       "    </tr>\n",
       "    <tr>\n",
       "      <th>test_mape</th>\n",
       "      <td>-15.875 (+/- 0.611)</td>\n",
       "      <td>-1.428 (+/- 0.053)</td>\n",
       "      <td>-0.729 (+/- 0.046)</td>\n",
       "      <td>-0.674 (+/- 0.057)</td>\n",
       "    </tr>\n",
       "    <tr>\n",
       "      <th>train_mape</th>\n",
       "      <td>-15.854 (+/- 0.091)</td>\n",
       "      <td>-1.426 (+/- 0.016)</td>\n",
       "      <td>-0.633 (+/- 0.008)</td>\n",
       "      <td>-0.239 (+/- 0.003)</td>\n",
       "    </tr>\n",
       "  </tbody>\n",
       "</table>\n",
       "</div>"
      ],
      "text/plain": [
       "                                  Dummy                  ridge  \\\n",
       "fit_time              0.011 (+/- 0.011)      0.072 (+/- 0.062)   \n",
       "score_time            0.002 (+/- 0.002)      0.010 (+/- 0.003)   \n",
       "test_neg RMSE   -6437.908 (+/- 249.131)  -664.090 (+/- 30.887)   \n",
       "train_neg RMSE   -6433.014 (+/- 63.618)   -664.094 (+/- 7.687)   \n",
       "test_r2              -0.007 (+/- 0.006)      0.989 (+/- 0.001)   \n",
       "train_r2              0.000 (+/- 0.000)      0.989 (+/- 0.000)   \n",
       "test_mape           -15.875 (+/- 0.611)     -1.428 (+/- 0.053)   \n",
       "train_mape          -15.854 (+/- 0.091)     -1.426 (+/- 0.016)   \n",
       "\n",
       "                              xgboost           rf_regressor  \n",
       "fit_time            5.307 (+/- 0.063)     72.459 (+/- 0.453)  \n",
       "score_time          0.026 (+/- 0.006)      0.799 (+/- 0.056)  \n",
       "test_neg RMSE   -329.928 (+/- 17.854)  -329.608 (+/- 22.237)  \n",
       "train_neg RMSE   -279.970 (+/- 3.244)   -118.130 (+/- 0.982)  \n",
       "test_r2             0.997 (+/- 0.000)      0.997 (+/- 0.001)  \n",
       "train_r2            0.998 (+/- 0.000)      1.000 (+/- 0.000)  \n",
       "test_mape          -0.729 (+/- 0.046)     -0.674 (+/- 0.057)  \n",
       "train_mape         -0.633 (+/- 0.008)     -0.239 (+/- 0.003)  "
      ]
     },
     "execution_count": 62,
     "metadata": {},
     "output_type": "execute_result"
    }
   ],
   "source": [
    "for (name, model) in models.items():\n",
    "    results[name] = mean_std_cross_val_scores(\n",
    "        model, X_train, y_train, return_train_score=True, scoring=scoring_metrics\n",
    "    )\n",
    "\n",
    "pd.DataFrame(results)"
   ]
  },
  {
   "cell_type": "markdown",
   "metadata": {},
   "source": [
    "#### Best Model (Example of XGBRegressor provided below)"
   ]
  },
  {
   "cell_type": "code",
   "execution_count": 63,
   "metadata": {},
   "outputs": [],
   "source": [
    "pipe_xgb.fit(X_train, y_train);"
   ]
  },
  {
   "cell_type": "code",
   "execution_count": 64,
   "metadata": {},
   "outputs": [],
   "source": [
    "preds = pipe_xgb.predict(X_test)"
   ]
  },
  {
   "cell_type": "code",
   "execution_count": 65,
   "metadata": {},
   "outputs": [
    {
     "data": {
      "text/html": [
       "<div>\n",
       "<style scoped>\n",
       "    .dataframe tbody tr th:only-of-type {\n",
       "        vertical-align: middle;\n",
       "    }\n",
       "\n",
       "    .dataframe tbody tr th {\n",
       "        vertical-align: top;\n",
       "    }\n",
       "\n",
       "    .dataframe thead th {\n",
       "        text-align: right;\n",
       "    }\n",
       "</style>\n",
       "<table border=\"1\" class=\"dataframe\">\n",
       "  <thead>\n",
       "    <tr style=\"text-align: right;\">\n",
       "      <th></th>\n",
       "      <th>Datetime</th>\n",
       "      <th>target</th>\n",
       "      <th>predicted</th>\n",
       "    </tr>\n",
       "  </thead>\n",
       "  <tbody>\n",
       "    <tr>\n",
       "      <th>0</th>\n",
       "      <td>2015-04-10 01:00:00</td>\n",
       "      <td>26208.0</td>\n",
       "      <td>25811.210938</td>\n",
       "    </tr>\n",
       "    <tr>\n",
       "      <th>1</th>\n",
       "      <td>2015-04-10 02:00:00</td>\n",
       "      <td>25240.0</td>\n",
       "      <td>24747.173828</td>\n",
       "    </tr>\n",
       "    <tr>\n",
       "      <th>2</th>\n",
       "      <td>2015-04-10 03:00:00</td>\n",
       "      <td>24753.0</td>\n",
       "      <td>24642.636719</td>\n",
       "    </tr>\n",
       "    <tr>\n",
       "      <th>3</th>\n",
       "      <td>2015-04-10 04:00:00</td>\n",
       "      <td>24694.0</td>\n",
       "      <td>24422.410156</td>\n",
       "    </tr>\n",
       "    <tr>\n",
       "      <th>4</th>\n",
       "      <td>2015-04-10 05:00:00</td>\n",
       "      <td>25232.0</td>\n",
       "      <td>25008.623047</td>\n",
       "    </tr>\n",
       "  </tbody>\n",
       "</table>\n",
       "</div>"
      ],
      "text/plain": [
       "             Datetime   target     predicted\n",
       "0 2015-04-10 01:00:00  26208.0  25811.210938\n",
       "1 2015-04-10 02:00:00  25240.0  24747.173828\n",
       "2 2015-04-10 03:00:00  24753.0  24642.636719\n",
       "3 2015-04-10 04:00:00  24694.0  24422.410156\n",
       "4 2015-04-10 05:00:00  25232.0  25008.623047"
      ]
     },
     "execution_count": 65,
     "metadata": {},
     "output_type": "execute_result"
    }
   ],
   "source": [
    "actual_vs_pred_df = y_test.reset_index()\n",
    "actual_vs_pred_df['predicted'] = preds\n",
    "actual_vs_pred_df.head()"
   ]
  },
  {
   "cell_type": "code",
   "execution_count": 66,
   "metadata": {},
   "outputs": [
    {
     "data": {
      "text/html": [
       "<div>\n",
       "<style scoped>\n",
       "    .dataframe tbody tr th:only-of-type {\n",
       "        vertical-align: middle;\n",
       "    }\n",
       "\n",
       "    .dataframe tbody tr th {\n",
       "        vertical-align: top;\n",
       "    }\n",
       "\n",
       "    .dataframe thead th {\n",
       "        text-align: right;\n",
       "    }\n",
       "</style>\n",
       "<table border=\"1\" class=\"dataframe\">\n",
       "  <thead>\n",
       "    <tr style=\"text-align: right;\">\n",
       "      <th></th>\n",
       "      <th>Datetime</th>\n",
       "      <th>variable</th>\n",
       "      <th>value</th>\n",
       "    </tr>\n",
       "  </thead>\n",
       "  <tbody>\n",
       "    <tr>\n",
       "      <th>58123</th>\n",
       "      <td>2018-08-02 20:00:00</td>\n",
       "      <td>predicted</td>\n",
       "      <td>44161.867188</td>\n",
       "    </tr>\n",
       "    <tr>\n",
       "      <th>58124</th>\n",
       "      <td>2018-08-02 21:00:00</td>\n",
       "      <td>predicted</td>\n",
       "      <td>43458.199219</td>\n",
       "    </tr>\n",
       "    <tr>\n",
       "      <th>58125</th>\n",
       "      <td>2018-08-02 22:00:00</td>\n",
       "      <td>predicted</td>\n",
       "      <td>41937.488281</td>\n",
       "    </tr>\n",
       "    <tr>\n",
       "      <th>58126</th>\n",
       "      <td>2018-08-02 23:00:00</td>\n",
       "      <td>predicted</td>\n",
       "      <td>38635.917969</td>\n",
       "    </tr>\n",
       "    <tr>\n",
       "      <th>58127</th>\n",
       "      <td>2018-08-03 00:00:00</td>\n",
       "      <td>predicted</td>\n",
       "      <td>34957.195312</td>\n",
       "    </tr>\n",
       "  </tbody>\n",
       "</table>\n",
       "</div>"
      ],
      "text/plain": [
       "                 Datetime   variable         value\n",
       "58123 2018-08-02 20:00:00  predicted  44161.867188\n",
       "58124 2018-08-02 21:00:00  predicted  43458.199219\n",
       "58125 2018-08-02 22:00:00  predicted  41937.488281\n",
       "58126 2018-08-02 23:00:00  predicted  38635.917969\n",
       "58127 2018-08-03 00:00:00  predicted  34957.195312"
      ]
     },
     "execution_count": 66,
     "metadata": {},
     "output_type": "execute_result"
    }
   ],
   "source": [
    "actual_vs_pred_df_long = pd.melt(actual_vs_pred_df, id_vars='Datetime')\n",
    "\n",
    "actual_vs_pred_df_long.tail()"
   ]
  },
  {
   "cell_type": "code",
   "execution_count": 67,
   "metadata": {},
   "outputs": [
    {
     "data": {
      "application/vnd.vegalite.v4+json": {
       "$schema": "https://vega.github.io/schema/vega-lite/v4.8.1.json",
       "config": {
        "view": {
         "continuousHeight": 300,
         "continuousWidth": 400
        }
       },
       "data": {
        "url": "http://localhost:15495/6c87be378fd29689591a545f030c9410.json"
       },
       "encoding": {
        "color": {
         "field": "variable",
         "title": "Type",
         "type": "nominal"
        },
        "x": {
         "field": "Datetime",
         "title": "Datetime",
         "type": "temporal"
        },
        "y": {
         "field": "value",
         "title": "Actual vs Predicted",
         "type": "quantitative"
        }
       },
       "mark": "line",
       "selection": {
        "selector003": {
         "bind": "scales",
         "encodings": [
          "x",
          "y"
         ],
         "type": "interval"
        }
       },
       "title": "Actual vs Predicted on Test Data",
       "width": 700
      },
      "image/png": "[encoded data removed]",
      "text/plain": [
       "<VegaLite 4 object>\n",
       "\n",
       "If you see this message, it means the renderer has not been properly enabled\n",
       "for the frontend that you are using. For more information, see\n",
       "https://altair-viz.github.io/user_guide/troubleshooting.html\n"
      ]
     },
     "execution_count": 67,
     "metadata": {},
     "output_type": "execute_result"
    }
   ],
   "source": [
    "# Visualize the actual vs predicted chart for the last 2 days of the test data period\n",
    "alt.Chart(actual_vs_pred_df_long[actual_vs_pred_df_long.Datetime > '2018-07-24'], \n",
    "          title='Actual vs Predicted on Test Data').mark_line().encode(\n",
    "    x=alt.X('Datetime', type='temporal', title='Datetime'),\n",
    "    y=alt.Y('value', type='quantitative', title='Actual vs Predicted'),\n",
    "    color=alt.Color('variable', title='Type')\n",
    ").properties(\n",
    "    width=700\n",
    ").interactive()"
   ]
  },
  {
   "cell_type": "code",
   "execution_count": 68,
   "metadata": {},
   "outputs": [
    {
     "name": "stdout",
     "output_type": "stream",
     "text": [
      "MAPE for test set: 0.824815046658205\n"
     ]
    }
   ],
   "source": [
    "print(f'MAPE for test set: {mape(actual_vs_pred_df[\"target\"], actual_vs_pred_df[\"predicted\"])}')"
   ]
  },
  {
   "cell_type": "markdown",
   "metadata": {},
   "source": [
    "#### Total Lags = 50"
   ]
  },
  {
   "cell_type": "code",
   "execution_count": 69,
   "metadata": {},
   "outputs": [
    {
     "name": "stdout",
     "output_type": "stream",
     "text": [
      "Shape of X_train and y_train: ((116232, 50), (116232,))\n",
      "Shape of X_test and y_test: ((29014, 50), (29014,))\n"
     ]
    }
   ],
   "source": [
    "# Total lags defined\n",
    "tot_lags = 50\n",
    "df_train = generate_lags(df=df_train, num_lags=tot_lags)\n",
    "df_test = generate_lags(df=df_test, num_lags=tot_lags)\n",
    "\n",
    "X_train, y_train = (\n",
    "    df_train.drop(columns=['target']),\n",
    "    df_train['target']\n",
    ")\n",
    "X_test, y_test = (\n",
    "    df_test.drop(columns=['target']),\n",
    "    df_test['target']\n",
    ")\n",
    "\n",
    "# Print shapes of the resulting train and test data sets\n",
    "print(f'Shape of X_train and y_train: {X_train.shape, y_train.shape}')\n",
    "print(f'Shape of X_test and y_test: {X_test.shape, y_test.shape}')"
   ]
  },
  {
   "cell_type": "code",
   "execution_count": 71,
   "metadata": {},
   "outputs": [],
   "source": [
    "preprocessor = Pipeline(\n",
    "    [\n",
    "        ('add_lag_step', UniveriateTimeSeriesAddFeatures()),\n",
    "        ('stdscaler', StandardScaler())\n",
    "    ]\n",
    ")"
   ]
  },
  {
   "cell_type": "code",
   "execution_count": 72,
   "metadata": {},
   "outputs": [],
   "source": [
    "results = {}"
   ]
  },
  {
   "cell_type": "code",
   "execution_count": 73,
   "metadata": {},
   "outputs": [
    {
     "data": {
      "text/html": [
       "<div>\n",
       "<style scoped>\n",
       "    .dataframe tbody tr th:only-of-type {\n",
       "        vertical-align: middle;\n",
       "    }\n",
       "\n",
       "    .dataframe tbody tr th {\n",
       "        vertical-align: top;\n",
       "    }\n",
       "\n",
       "    .dataframe thead th {\n",
       "        text-align: right;\n",
       "    }\n",
       "</style>\n",
       "<table border=\"1\" class=\"dataframe\">\n",
       "  <thead>\n",
       "    <tr style=\"text-align: right;\">\n",
       "      <th></th>\n",
       "      <th>Dummy</th>\n",
       "    </tr>\n",
       "  </thead>\n",
       "  <tbody>\n",
       "    <tr>\n",
       "      <th>fit_time</th>\n",
       "      <td>0.028 (+/- 0.051)</td>\n",
       "    </tr>\n",
       "    <tr>\n",
       "      <th>score_time</th>\n",
       "      <td>0.001 (+/- 0.000)</td>\n",
       "    </tr>\n",
       "    <tr>\n",
       "      <th>test_neg RMSE</th>\n",
       "      <td>-6438.758 (+/- 250.942)</td>\n",
       "    </tr>\n",
       "    <tr>\n",
       "      <th>train_neg RMSE</th>\n",
       "      <td>-6433.888 (+/- 64.083)</td>\n",
       "    </tr>\n",
       "    <tr>\n",
       "      <th>test_r2</th>\n",
       "      <td>-0.007 (+/- 0.006)</td>\n",
       "    </tr>\n",
       "    <tr>\n",
       "      <th>train_r2</th>\n",
       "      <td>0.000 (+/- 0.000)</td>\n",
       "    </tr>\n",
       "    <tr>\n",
       "      <th>test_mape</th>\n",
       "      <td>-15.877 (+/- 0.616)</td>\n",
       "    </tr>\n",
       "    <tr>\n",
       "      <th>train_mape</th>\n",
       "      <td>-15.856 (+/- 0.094)</td>\n",
       "    </tr>\n",
       "  </tbody>\n",
       "</table>\n",
       "</div>"
      ],
      "text/plain": [
       "                                  Dummy\n",
       "fit_time              0.028 (+/- 0.051)\n",
       "score_time            0.001 (+/- 0.000)\n",
       "test_neg RMSE   -6438.758 (+/- 250.942)\n",
       "train_neg RMSE   -6433.888 (+/- 64.083)\n",
       "test_r2              -0.007 (+/- 0.006)\n",
       "train_r2              0.000 (+/- 0.000)\n",
       "test_mape           -15.877 (+/- 0.616)\n",
       "train_mape          -15.856 (+/- 0.094)"
      ]
     },
     "execution_count": 73,
     "metadata": {},
     "output_type": "execute_result"
    }
   ],
   "source": [
    "dummy = DummyRegressor()\n",
    "\n",
    "results[\"Dummy\"] = mean_std_cross_val_scores(\n",
    "    dummy, X_train, y_train, return_train_score=True, scoring=scoring_metrics\n",
    ")\n",
    "\n",
    "pd.DataFrame(results)"
   ]
  },
  {
   "cell_type": "code",
   "execution_count": 74,
   "metadata": {},
   "outputs": [],
   "source": [
    "pipe_ridge = make_pipeline(preprocessor, Ridge(random_state=123))\n",
    "pipe_xgb = make_pipeline(preprocessor, XGBRegressor(random_state=123))\n",
    "pipe_rf = make_pipeline(preprocessor, RandomForestRegressor(random_state=123))\n",
    "\n",
    "models = {\n",
    "    'ridge': pipe_ridge,\n",
    "    'xgboost': pipe_xgb,\n",
    "    'rf_regressor': pipe_rf\n",
    "}"
   ]
  },
  {
   "cell_type": "code",
   "execution_count": 75,
   "metadata": {},
   "outputs": [
    {
     "data": {
      "text/html": [
       "<div>\n",
       "<style scoped>\n",
       "    .dataframe tbody tr th:only-of-type {\n",
       "        vertical-align: middle;\n",
       "    }\n",
       "\n",
       "    .dataframe tbody tr th {\n",
       "        vertical-align: top;\n",
       "    }\n",
       "\n",
       "    .dataframe thead th {\n",
       "        text-align: right;\n",
       "    }\n",
       "</style>\n",
       "<table border=\"1\" class=\"dataframe\">\n",
       "  <thead>\n",
       "    <tr style=\"text-align: right;\">\n",
       "      <th></th>\n",
       "      <th>Dummy</th>\n",
       "      <th>ridge</th>\n",
       "      <th>xgboost</th>\n",
       "      <th>rf_regressor</th>\n",
       "    </tr>\n",
       "  </thead>\n",
       "  <tbody>\n",
       "    <tr>\n",
       "      <th>fit_time</th>\n",
       "      <td>0.028 (+/- 0.051)</td>\n",
       "      <td>0.133 (+/- 0.102)</td>\n",
       "      <td>12.951 (+/- 0.368)</td>\n",
       "      <td>316.478 (+/- 0.931)</td>\n",
       "    </tr>\n",
       "    <tr>\n",
       "      <th>score_time</th>\n",
       "      <td>0.001 (+/- 0.000)</td>\n",
       "      <td>0.021 (+/- 0.008)</td>\n",
       "      <td>0.046 (+/- 0.028)</td>\n",
       "      <td>0.906 (+/- 0.071)</td>\n",
       "    </tr>\n",
       "    <tr>\n",
       "      <th>test_neg RMSE</th>\n",
       "      <td>-6438.758 (+/- 250.942)</td>\n",
       "      <td>-343.340 (+/- 31.481)</td>\n",
       "      <td>-366.834 (+/- 17.543)</td>\n",
       "      <td>-349.062 (+/- 22.444)</td>\n",
       "    </tr>\n",
       "    <tr>\n",
       "      <th>train_neg RMSE</th>\n",
       "      <td>-6433.888 (+/- 64.083)</td>\n",
       "      <td>-342.351 (+/- 8.513)</td>\n",
       "      <td>-293.439 (+/- 2.731)</td>\n",
       "      <td>-125.975 (+/- 1.148)</td>\n",
       "    </tr>\n",
       "    <tr>\n",
       "      <th>test_r2</th>\n",
       "      <td>-0.007 (+/- 0.006)</td>\n",
       "      <td>0.997 (+/- 0.001)</td>\n",
       "      <td>0.997 (+/- 0.001)</td>\n",
       "      <td>0.997 (+/- 0.001)</td>\n",
       "    </tr>\n",
       "    <tr>\n",
       "      <th>train_r2</th>\n",
       "      <td>0.000 (+/- 0.000)</td>\n",
       "      <td>0.997 (+/- 0.000)</td>\n",
       "      <td>0.998 (+/- 0.000)</td>\n",
       "      <td>1.000 (+/- 0.000)</td>\n",
       "    </tr>\n",
       "    <tr>\n",
       "      <th>test_mape</th>\n",
       "      <td>-15.877 (+/- 0.616)</td>\n",
       "      <td>-0.732 (+/- 0.046)</td>\n",
       "      <td>-0.825 (+/- 0.049)</td>\n",
       "      <td>-0.716 (+/- 0.058)</td>\n",
       "    </tr>\n",
       "    <tr>\n",
       "      <th>train_mape</th>\n",
       "      <td>-15.856 (+/- 0.094)</td>\n",
       "      <td>-0.729 (+/- 0.012)</td>\n",
       "      <td>-0.684 (+/- 0.008)</td>\n",
       "      <td>-0.256 (+/- 0.004)</td>\n",
       "    </tr>\n",
       "  </tbody>\n",
       "</table>\n",
       "</div>"
      ],
      "text/plain": [
       "                                  Dummy                  ridge  \\\n",
       "fit_time              0.028 (+/- 0.051)      0.133 (+/- 0.102)   \n",
       "score_time            0.001 (+/- 0.000)      0.021 (+/- 0.008)   \n",
       "test_neg RMSE   -6438.758 (+/- 250.942)  -343.340 (+/- 31.481)   \n",
       "train_neg RMSE   -6433.888 (+/- 64.083)   -342.351 (+/- 8.513)   \n",
       "test_r2              -0.007 (+/- 0.006)      0.997 (+/- 0.001)   \n",
       "train_r2              0.000 (+/- 0.000)      0.997 (+/- 0.000)   \n",
       "test_mape           -15.877 (+/- 0.616)     -0.732 (+/- 0.046)   \n",
       "train_mape          -15.856 (+/- 0.094)     -0.729 (+/- 0.012)   \n",
       "\n",
       "                              xgboost           rf_regressor  \n",
       "fit_time           12.951 (+/- 0.368)    316.478 (+/- 0.931)  \n",
       "score_time          0.046 (+/- 0.028)      0.906 (+/- 0.071)  \n",
       "test_neg RMSE   -366.834 (+/- 17.543)  -349.062 (+/- 22.444)  \n",
       "train_neg RMSE   -293.439 (+/- 2.731)   -125.975 (+/- 1.148)  \n",
       "test_r2             0.997 (+/- 0.001)      0.997 (+/- 0.001)  \n",
       "train_r2            0.998 (+/- 0.000)      1.000 (+/- 0.000)  \n",
       "test_mape          -0.825 (+/- 0.049)     -0.716 (+/- 0.058)  \n",
       "train_mape         -0.684 (+/- 0.008)     -0.256 (+/- 0.004)  "
      ]
     },
     "execution_count": 75,
     "metadata": {},
     "output_type": "execute_result"
    }
   ],
   "source": [
    "for (name, model) in models.items():\n",
    "    results[name] = mean_std_cross_val_scores(\n",
    "        model, X_train, y_train, return_train_score=True, scoring=scoring_metrics\n",
    "    )\n",
    "\n",
    "pd.DataFrame(results)"
   ]
  },
  {
   "cell_type": "code",
   "execution_count": 76,
   "metadata": {},
   "outputs": [],
   "source": [
    "pipe_xgb.fit(X_train, y_train);\n",
    "\n",
    "preds = pipe_xgb.predict(X_test)\n",
    "\n",
    "actual_vs_pred_df = y_test.reset_index()\n",
    "actual_vs_pred_df['predicted'] = preds\n",
    "# actual_vs_pred_df.head()\n",
    "\n",
    "actual_vs_pred_df_long = pd.melt(actual_vs_pred_df, id_vars='Datetime')\n",
    "\n",
    "# actual_vs_pred_df_long.tail()"
   ]
  },
  {
   "cell_type": "code",
   "execution_count": 77,
   "metadata": {},
   "outputs": [
    {
     "data": {
      "application/vnd.vegalite.v4+json": {
       "$schema": "https://vega.github.io/schema/vega-lite/v4.8.1.json",
       "config": {
        "view": {
         "continuousHeight": 300,
         "continuousWidth": 400
        }
       },
       "data": {
        "url": "http://localhost:15495/7f0524f9a4d812a228a43dd5c170df8f.json"
       },
       "encoding": {
        "color": {
         "field": "variable",
         "title": "Type",
         "type": "nominal"
        },
        "x": {
         "field": "Datetime",
         "title": "Datetime",
         "type": "temporal"
        },
        "y": {
         "field": "value",
         "title": "Actual vs Predicted",
         "type": "quantitative"
        }
       },
       "mark": "line",
       "selection": {
        "selector004": {
         "bind": "scales",
         "encodings": [
          "x",
          "y"
         ],
         "type": "interval"
        }
       },
       "title": "Actual vs Predicted on Test Data",
       "width": 700
      },
      "image/png": "[encoded data removed]",
      "text/plain": [
       "<VegaLite 4 object>\n",
       "\n",
       "If you see this message, it means the renderer has not been properly enabled\n",
       "for the frontend that you are using. For more information, see\n",
       "https://altair-viz.github.io/user_guide/troubleshooting.html\n"
      ]
     },
     "execution_count": 77,
     "metadata": {},
     "output_type": "execute_result"
    }
   ],
   "source": [
    "# Visualize the actual vs predicted chart for the last 2 days of the test data period\n",
    "alt.Chart(actual_vs_pred_df_long[actual_vs_pred_df_long.Datetime > '2018-07-24'], \n",
    "          title='Actual vs Predicted on Test Data').mark_line().encode(\n",
    "    x=alt.X('Datetime', type='temporal', title='Datetime'),\n",
    "    y=alt.Y('value', type='quantitative', title='Actual vs Predicted'),\n",
    "    color=alt.Color('variable', title='Type')\n",
    ").properties(\n",
    "    width=700\n",
    ").interactive()"
   ]
  },
  {
   "cell_type": "code",
   "execution_count": 78,
   "metadata": {},
   "outputs": [
    {
     "name": "stdout",
     "output_type": "stream",
     "text": [
      "MAPE for test set: 0.9045408927249622\n"
     ]
    }
   ],
   "source": [
    "print(f'MAPE for test set: {mape(actual_vs_pred_df[\"target\"], actual_vs_pred_df[\"predicted\"])}')"
   ]
  },
  {
   "cell_type": "markdown",
   "metadata": {},
   "source": [
    "Total Lags = 5"
   ]
  },
  {
   "cell_type": "code",
   "execution_count": 79,
   "metadata": {},
   "outputs": [
    {
     "name": "stdout",
     "output_type": "stream",
     "text": [
      "Shape of X_train and y_train: ((116227, 50), (116227,))\n",
      "Shape of X_test and y_test: ((29009, 50), (29009,))\n"
     ]
    }
   ],
   "source": [
    "# Total lags defined\n",
    "tot_lags = 5\n",
    "df_train = generate_lags(df=df_train, num_lags=tot_lags)\n",
    "df_test = generate_lags(df=df_test, num_lags=tot_lags)\n",
    "\n",
    "X_train, y_train = (\n",
    "    df_train.drop(columns=['target']),\n",
    "    df_train['target']\n",
    ")\n",
    "X_test, y_test = (\n",
    "    df_test.drop(columns=['target']),\n",
    "    df_test['target']\n",
    ")\n",
    "\n",
    "# Print shapes of the resulting train and test data sets\n",
    "print(f'Shape of X_train and y_train: {X_train.shape, y_train.shape}')\n",
    "print(f'Shape of X_test and y_test: {X_test.shape, y_test.shape}')"
   ]
  },
  {
   "cell_type": "code",
   "execution_count": 81,
   "metadata": {},
   "outputs": [],
   "source": [
    "preprocessor = Pipeline(\n",
    "    [\n",
    "        ('add_lag_step', UniveriateTimeSeriesAddFeatures()),\n",
    "        ('stdscaler', StandardScaler())\n",
    "    ]\n",
    ")"
   ]
  },
  {
   "cell_type": "code",
   "execution_count": 82,
   "metadata": {},
   "outputs": [],
   "source": [
    "results = {}"
   ]
  },
  {
   "cell_type": "code",
   "execution_count": 83,
   "metadata": {},
   "outputs": [
    {
     "data": {
      "text/html": [
       "<div>\n",
       "<style scoped>\n",
       "    .dataframe tbody tr th:only-of-type {\n",
       "        vertical-align: middle;\n",
       "    }\n",
       "\n",
       "    .dataframe tbody tr th {\n",
       "        vertical-align: top;\n",
       "    }\n",
       "\n",
       "    .dataframe thead th {\n",
       "        text-align: right;\n",
       "    }\n",
       "</style>\n",
       "<table border=\"1\" class=\"dataframe\">\n",
       "  <thead>\n",
       "    <tr style=\"text-align: right;\">\n",
       "      <th></th>\n",
       "      <th>Dummy</th>\n",
       "    </tr>\n",
       "  </thead>\n",
       "  <tbody>\n",
       "    <tr>\n",
       "      <th>fit_time</th>\n",
       "      <td>0.019 (+/- 0.029)</td>\n",
       "    </tr>\n",
       "    <tr>\n",
       "      <th>score_time</th>\n",
       "      <td>0.001 (+/- 0.001)</td>\n",
       "    </tr>\n",
       "    <tr>\n",
       "      <th>test_neg RMSE</th>\n",
       "      <td>-6438.864 (+/- 251.201)</td>\n",
       "    </tr>\n",
       "    <tr>\n",
       "      <th>train_neg RMSE</th>\n",
       "      <td>-6433.996 (+/- 64.150)</td>\n",
       "    </tr>\n",
       "    <tr>\n",
       "      <th>test_r2</th>\n",
       "      <td>-0.007 (+/- 0.006)</td>\n",
       "    </tr>\n",
       "    <tr>\n",
       "      <th>train_r2</th>\n",
       "      <td>0.000 (+/- 0.000)</td>\n",
       "    </tr>\n",
       "    <tr>\n",
       "      <th>test_mape</th>\n",
       "      <td>-15.877 (+/- 0.616)</td>\n",
       "    </tr>\n",
       "    <tr>\n",
       "      <th>train_mape</th>\n",
       "      <td>-15.856 (+/- 0.094)</td>\n",
       "    </tr>\n",
       "  </tbody>\n",
       "</table>\n",
       "</div>"
      ],
      "text/plain": [
       "                                  Dummy\n",
       "fit_time              0.019 (+/- 0.029)\n",
       "score_time            0.001 (+/- 0.001)\n",
       "test_neg RMSE   -6438.864 (+/- 251.201)\n",
       "train_neg RMSE   -6433.996 (+/- 64.150)\n",
       "test_r2              -0.007 (+/- 0.006)\n",
       "train_r2              0.000 (+/- 0.000)\n",
       "test_mape           -15.877 (+/- 0.616)\n",
       "train_mape          -15.856 (+/- 0.094)"
      ]
     },
     "execution_count": 83,
     "metadata": {},
     "output_type": "execute_result"
    }
   ],
   "source": [
    "dummy = DummyRegressor()\n",
    "\n",
    "results[\"Dummy\"] = mean_std_cross_val_scores(\n",
    "    dummy, X_train, y_train, return_train_score=True, scoring=scoring_metrics\n",
    ")\n",
    "\n",
    "pd.DataFrame(results)"
   ]
  },
  {
   "cell_type": "code",
   "execution_count": 84,
   "metadata": {},
   "outputs": [],
   "source": [
    "pipe_ridge = make_pipeline(preprocessor, Ridge(random_state=123))\n",
    "pipe_xgb = make_pipeline(preprocessor, XGBRegressor(random_state=123))\n",
    "pipe_rf = make_pipeline(preprocessor, RandomForestRegressor(random_state=123))\n",
    "\n",
    "models = {\n",
    "    'ridge': pipe_ridge,\n",
    "    'xgboost': pipe_xgb,\n",
    "    'rf_regressor': pipe_rf\n",
    "}"
   ]
  },
  {
   "cell_type": "code",
   "execution_count": 85,
   "metadata": {},
   "outputs": [
    {
     "data": {
      "text/html": [
       "<div>\n",
       "<style scoped>\n",
       "    .dataframe tbody tr th:only-of-type {\n",
       "        vertical-align: middle;\n",
       "    }\n",
       "\n",
       "    .dataframe tbody tr th {\n",
       "        vertical-align: top;\n",
       "    }\n",
       "\n",
       "    .dataframe thead th {\n",
       "        text-align: right;\n",
       "    }\n",
       "</style>\n",
       "<table border=\"1\" class=\"dataframe\">\n",
       "  <thead>\n",
       "    <tr style=\"text-align: right;\">\n",
       "      <th></th>\n",
       "      <th>Dummy</th>\n",
       "      <th>ridge</th>\n",
       "      <th>xgboost</th>\n",
       "      <th>rf_regressor</th>\n",
       "    </tr>\n",
       "  </thead>\n",
       "  <tbody>\n",
       "    <tr>\n",
       "      <th>fit_time</th>\n",
       "      <td>0.019 (+/- 0.029)</td>\n",
       "      <td>0.104 (+/- 0.050)</td>\n",
       "      <td>13.495 (+/- 0.738)</td>\n",
       "      <td>322.090 (+/- 2.944)</td>\n",
       "    </tr>\n",
       "    <tr>\n",
       "      <th>score_time</th>\n",
       "      <td>0.001 (+/- 0.001)</td>\n",
       "      <td>0.017 (+/- 0.007)</td>\n",
       "      <td>0.042 (+/- 0.011)</td>\n",
       "      <td>0.856 (+/- 0.035)</td>\n",
       "    </tr>\n",
       "    <tr>\n",
       "      <th>test_neg RMSE</th>\n",
       "      <td>-6438.864 (+/- 251.201)</td>\n",
       "      <td>-343.339 (+/- 31.481)</td>\n",
       "      <td>-366.371 (+/- 17.958)</td>\n",
       "      <td>-348.818 (+/- 22.624)</td>\n",
       "    </tr>\n",
       "    <tr>\n",
       "      <th>train_neg RMSE</th>\n",
       "      <td>-6433.996 (+/- 64.150)</td>\n",
       "      <td>-342.352 (+/- 8.513)</td>\n",
       "      <td>-293.938 (+/- 2.261)</td>\n",
       "      <td>-125.856 (+/- 1.189)</td>\n",
       "    </tr>\n",
       "    <tr>\n",
       "      <th>test_r2</th>\n",
       "      <td>-0.007 (+/- 0.006)</td>\n",
       "      <td>0.997 (+/- 0.001)</td>\n",
       "      <td>0.997 (+/- 0.001)</td>\n",
       "      <td>0.997 (+/- 0.001)</td>\n",
       "    </tr>\n",
       "    <tr>\n",
       "      <th>train_r2</th>\n",
       "      <td>0.000 (+/- 0.000)</td>\n",
       "      <td>0.997 (+/- 0.000)</td>\n",
       "      <td>0.998 (+/- 0.000)</td>\n",
       "      <td>1.000 (+/- 0.000)</td>\n",
       "    </tr>\n",
       "    <tr>\n",
       "      <th>test_mape</th>\n",
       "      <td>-15.877 (+/- 0.616)</td>\n",
       "      <td>-0.732 (+/- 0.046)</td>\n",
       "      <td>-0.823 (+/- 0.051)</td>\n",
       "      <td>-0.716 (+/- 0.059)</td>\n",
       "    </tr>\n",
       "    <tr>\n",
       "      <th>train_mape</th>\n",
       "      <td>-15.856 (+/- 0.094)</td>\n",
       "      <td>-0.729 (+/- 0.012)</td>\n",
       "      <td>-0.683 (+/- 0.008)</td>\n",
       "      <td>-0.256 (+/- 0.004)</td>\n",
       "    </tr>\n",
       "  </tbody>\n",
       "</table>\n",
       "</div>"
      ],
      "text/plain": [
       "                                  Dummy                  ridge  \\\n",
       "fit_time              0.019 (+/- 0.029)      0.104 (+/- 0.050)   \n",
       "score_time            0.001 (+/- 0.001)      0.017 (+/- 0.007)   \n",
       "test_neg RMSE   -6438.864 (+/- 251.201)  -343.339 (+/- 31.481)   \n",
       "train_neg RMSE   -6433.996 (+/- 64.150)   -342.352 (+/- 8.513)   \n",
       "test_r2              -0.007 (+/- 0.006)      0.997 (+/- 0.001)   \n",
       "train_r2              0.000 (+/- 0.000)      0.997 (+/- 0.000)   \n",
       "test_mape           -15.877 (+/- 0.616)     -0.732 (+/- 0.046)   \n",
       "train_mape          -15.856 (+/- 0.094)     -0.729 (+/- 0.012)   \n",
       "\n",
       "                              xgboost           rf_regressor  \n",
       "fit_time           13.495 (+/- 0.738)    322.090 (+/- 2.944)  \n",
       "score_time          0.042 (+/- 0.011)      0.856 (+/- 0.035)  \n",
       "test_neg RMSE   -366.371 (+/- 17.958)  -348.818 (+/- 22.624)  \n",
       "train_neg RMSE   -293.938 (+/- 2.261)   -125.856 (+/- 1.189)  \n",
       "test_r2             0.997 (+/- 0.001)      0.997 (+/- 0.001)  \n",
       "train_r2            0.998 (+/- 0.000)      1.000 (+/- 0.000)  \n",
       "test_mape          -0.823 (+/- 0.051)     -0.716 (+/- 0.059)  \n",
       "train_mape         -0.683 (+/- 0.008)     -0.256 (+/- 0.004)  "
      ]
     },
     "execution_count": 85,
     "metadata": {},
     "output_type": "execute_result"
    }
   ],
   "source": [
    "for (name, model) in models.items():\n",
    "    results[name] = mean_std_cross_val_scores(\n",
    "        model, X_train, y_train, return_train_score=True, scoring=scoring_metrics\n",
    "    )\n",
    "\n",
    "pd.DataFrame(results)"
   ]
  },
  {
   "cell_type": "code",
   "execution_count": 86,
   "metadata": {},
   "outputs": [],
   "source": [
    "pipe_xgb.fit(X_train, y_train);\n",
    "\n",
    "preds = pipe_xgb.predict(X_test)\n",
    "\n",
    "actual_vs_pred_df = y_test.reset_index()\n",
    "actual_vs_pred_df['predicted'] = preds\n",
    "# actual_vs_pred_df.head()\n",
    "\n",
    "actual_vs_pred_df_long = pd.melt(actual_vs_pred_df, id_vars='Datetime')\n",
    "\n",
    "# actual_vs_pred_df_long.tail()"
   ]
  },
  {
   "cell_type": "code",
   "execution_count": 87,
   "metadata": {},
   "outputs": [
    {
     "data": {
      "application/vnd.vegalite.v4+json": {
       "$schema": "https://vega.github.io/schema/vega-lite/v4.8.1.json",
       "config": {
        "view": {
         "continuousHeight": 300,
         "continuousWidth": 400
        }
       },
       "data": {
        "url": "http://localhost:15495/11a30f9d99625b4d2d3c9fa5c07cb564.json"
       },
       "encoding": {
        "color": {
         "field": "variable",
         "title": "Type",
         "type": "nominal"
        },
        "x": {
         "field": "Datetime",
         "title": "Datetime",
         "type": "temporal"
        },
        "y": {
         "field": "value",
         "title": "Actual vs Predicted",
         "type": "quantitative"
        }
       },
       "mark": "line",
       "selection": {
        "selector005": {
         "bind": "scales",
         "encodings": [
          "x",
          "y"
         ],
         "type": "interval"
        }
       },
       "title": "Actual vs Predicted on Test Data",
       "width": 700
      },
      "image/png": "[encoded data removed]",
      "text/plain": [
       "<VegaLite 4 object>\n",
       "\n",
       "If you see this message, it means the renderer has not been properly enabled\n",
       "for the frontend that you are using. For more information, see\n",
       "https://altair-viz.github.io/user_guide/troubleshooting.html\n"
      ]
     },
     "execution_count": 87,
     "metadata": {},
     "output_type": "execute_result"
    }
   ],
   "source": [
    "# Visualize the actual vs predicted chart for the last 2 days of the test data period\n",
    "alt.Chart(actual_vs_pred_df_long[actual_vs_pred_df_long.Datetime > '2018-07-24'], \n",
    "          title='Actual vs Predicted on Test Data').mark_line().encode(\n",
    "    x=alt.X('Datetime', type='temporal', title='Datetime'),\n",
    "    y=alt.Y('value', type='quantitative', title='Actual vs Predicted'),\n",
    "    color=alt.Color('variable', title='Type')\n",
    ").properties(\n",
    "    width=700\n",
    ").interactive()"
   ]
  },
  {
   "cell_type": "code",
   "execution_count": 88,
   "metadata": {},
   "outputs": [
    {
     "name": "stdout",
     "output_type": "stream",
     "text": [
      "MAPE for test set: 0.9169302784162651\n"
     ]
    }
   ],
   "source": [
    "print(f'MAPE for test set: {mape(actual_vs_pred_df[\"target\"], actual_vs_pred_df[\"predicted\"])}')"
   ]
  },
  {
   "cell_type": "code",
   "execution_count": null,
   "metadata": {},
   "outputs": [],
   "source": []
  }
 ],
 "metadata": {
  "interpreter": {
   "hash": "ae4e6b2e328c0ea4627e14bd093050c1271aa8df82847c52aa07c279e17c71ae"
  },
  "kernelspec": {
   "display_name": "Python [conda env:571]",
   "language": "python",
   "name": "conda-env-571-py"
  },
  "language_info": {
   "codemirror_mode": {
    "name": "ipython",
    "version": 3
   },
   "file_extension": ".py",
   "mimetype": "text/x-python",
   "name": "python",
   "nbconvert_exporter": "python",
   "pygments_lexer": "ipython3",
   "version": "3.9.7"
  }
 },
 "nbformat": 4,
 "nbformat_minor": 4
}
