{
 "cells": [
  {
   "cell_type": "markdown",
   "metadata": {},
   "source": [
    "### Import modules"
   ]
  },
  {
   "cell_type": "code",
   "execution_count": 1,
   "metadata": {},
   "outputs": [],
   "source": [
    "import numpy as np\n",
    "import pandas as pd\n",
    "import torch\n",
    "import torch.nn as nn\n",
    "\n",
    "from sklearn.model_selection import train_test_split, cross_validate, cross_val_score\n",
    "from sklearn.base import BaseEstimator, TransformerMixin\n",
    "from sklearn.compose import ColumnTransformer, make_column_transformer\n",
    "from sklearn.preprocessing import StandardScaler, MinMaxScaler\n",
    "from sklearn.pipeline import Pipeline, make_pipeline\n",
    "from sklearn.metrics import make_scorer\n",
    "from sklearn.dummy import DummyRegressor\n",
    "\n",
    "from xgboost import XGBRegressor\n",
    "from sklearn.ensemble import RandomForestRegressor\n",
    "from sklearn.linear_model import Ridge\n",
    "# from catboost import CatBoostRegressor\n",
    "\n",
    "import altair as alt\n"
   ]
  },
  {
   "cell_type": "code",
   "execution_count": 2,
   "metadata": {},
   "outputs": [
    {
     "data": {
      "text/plain": [
       "DataTransformerRegistry.enable('data_server')"
      ]
     },
     "execution_count": 2,
     "metadata": {},
     "output_type": "execute_result"
    }
   ],
   "source": [
    "# Save a vega-lite spec and a PNG blob for each plot in the notebook\n",
    "alt.renderers.enable('mimetype')\n",
    "# Handle large data sets without embedding them in the notebook\n",
    "alt.data_transformers.enable('data_server')"
   ]
  },
  {
   "cell_type": "markdown",
   "metadata": {},
   "source": [
    "## Read the data"
   ]
  },
  {
   "cell_type": "code",
   "execution_count": 3,
   "metadata": {},
   "outputs": [
    {
     "data": {
      "text/html": [
       "<div>\n",
       "<style scoped>\n",
       "    .dataframe tbody tr th:only-of-type {\n",
       "        vertical-align: middle;\n",
       "    }\n",
       "\n",
       "    .dataframe tbody tr th {\n",
       "        vertical-align: top;\n",
       "    }\n",
       "\n",
       "    .dataframe thead th {\n",
       "        text-align: right;\n",
       "    }\n",
       "</style>\n",
       "<table border=\"1\" class=\"dataframe\">\n",
       "  <thead>\n",
       "    <tr style=\"text-align: right;\">\n",
       "      <th></th>\n",
       "      <th>target</th>\n",
       "    </tr>\n",
       "    <tr>\n",
       "      <th>Datetime</th>\n",
       "      <th></th>\n",
       "    </tr>\n",
       "  </thead>\n",
       "  <tbody>\n",
       "    <tr>\n",
       "      <th>2002-01-01 01:00:00</th>\n",
       "      <td>30393.0</td>\n",
       "    </tr>\n",
       "    <tr>\n",
       "      <th>2002-01-01 02:00:00</th>\n",
       "      <td>29265.0</td>\n",
       "    </tr>\n",
       "    <tr>\n",
       "      <th>2002-01-01 03:00:00</th>\n",
       "      <td>28357.0</td>\n",
       "    </tr>\n",
       "    <tr>\n",
       "      <th>2002-01-01 04:00:00</th>\n",
       "      <td>27899.0</td>\n",
       "    </tr>\n",
       "    <tr>\n",
       "      <th>2002-01-01 05:00:00</th>\n",
       "      <td>28057.0</td>\n",
       "    </tr>\n",
       "  </tbody>\n",
       "</table>\n",
       "</div>"
      ],
      "text/plain": [
       "                      target\n",
       "Datetime                    \n",
       "2002-01-01 01:00:00  30393.0\n",
       "2002-01-01 02:00:00  29265.0\n",
       "2002-01-01 03:00:00  28357.0\n",
       "2002-01-01 04:00:00  27899.0\n",
       "2002-01-01 05:00:00  28057.0"
      ]
     },
     "execution_count": 3,
     "metadata": {},
     "output_type": "execute_result"
    }
   ],
   "source": [
    "# Read the data\n",
    "df = pd.read_csv('data/PJME_hourly.csv')\n",
    "\n",
    "# Remove spaces from column names\n",
    "df.columns = df.columns.str.replace(' ', '')\n",
    "\n",
    "# Convert Datetime column to datetime data type\n",
    "df['Datetime'] = pd.to_datetime(df['Datetime'])\n",
    "\n",
    "# Set index to datetime column\n",
    "df = df.set_index('Datetime')\n",
    "\n",
    "# Sort the index to ascending order\n",
    "df = df.sort_index()\n",
    "\n",
    "# Rename the PJME_MW column to target column\n",
    "df = df.rename(columns={'PJME_MW': 'target'})\n",
    "\n",
    "# Check head of the resulting dataframe\n",
    "df.head()"
   ]
  },
  {
   "cell_type": "markdown",
   "metadata": {},
   "source": [
    "## Split into train and test"
   ]
  },
  {
   "cell_type": "code",
   "execution_count": 4,
   "metadata": {},
   "outputs": [
    {
     "name": "stdout",
     "output_type": "stream",
     "text": [
      "(116292, 1)\n",
      "(29074, 1)\n"
     ]
    }
   ],
   "source": [
    "df_train, df_test = train_test_split(df, test_size=0.2, shuffle=False, random_state=123)\n",
    "print(df_train.shape)\n",
    "print(df_test.shape)"
   ]
  },
  {
   "cell_type": "markdown",
   "metadata": {},
   "source": [
    "## Visualize the data - Basic EDA"
   ]
  },
  {
   "cell_type": "code",
   "execution_count": 5,
   "metadata": {},
   "outputs": [],
   "source": [
    "# Function to plot the raw data\n",
    "def plot_data(data, x_axis, y_axis):\n",
    "    \"\"\"\n",
    "    Plots line chart of the time series data (y-axis) against time (x-axis)\n",
    "\n",
    "    Parameters\n",
    "    ----------\n",
    "    data: pd.DataFrame\n",
    "        input dataframe\n",
    "    x_axis: str\n",
    "        the name of the time(datetime) column \n",
    "    y_axis: str\n",
    "        the name of the time series data column\n",
    "\n",
    "    Returns\n",
    "    ----------\n",
    "    lines: altair.vegalite.v4.api.Chart\n",
    "        altair chart object \n",
    "    \"\"\"\n",
    "    data = data.reset_index()\n",
    "    lines = alt.Chart(data).mark_line().encode(\n",
    "        x=alt.X(x_axis),\n",
    "        y=alt.Y(y_axis)\n",
    "    ).properties(\n",
    "        width=700,\n",
    "        height=250\n",
    "    )\n",
    "    return lines"
   ]
  },
  {
   "cell_type": "code",
   "execution_count": 6,
   "metadata": {},
   "outputs": [
    {
     "data": {
      "application/vnd.vegalite.v4+json": {
       "$schema": "https://vega.github.io/schema/vega-lite/v4.8.1.json",
       "config": {
        "view": {
         "continuousHeight": 300,
         "continuousWidth": 400
        }
       },
       "data": {
        "url": "http://localhost:16905/b9335396beb1735a7907083fcce6b1ea.json"
       },
       "encoding": {
        "x": {
         "field": "Datetime",
         "type": "temporal"
        },
        "y": {
         "field": "target",
         "type": "quantitative"
        }
       },
       "height": 250,
       "mark": "line",
       "width": 700
      },
      "text/plain": [
       "<VegaLite 4 object>\n",
       "\n",
       "If you see this message, it means the renderer has not been properly enabled\n",
       "for the frontend that you are using. For more information, see\n",
       "https://altair-viz.github.io/user_guide/troubleshooting.html\n"
      ]
     },
     "execution_count": 6,
     "metadata": {},
     "output_type": "execute_result"
    }
   ],
   "source": [
    "plot_data(df_train, x_axis='Datetime', y_axis='target')"
   ]
  },
  {
   "cell_type": "markdown",
   "metadata": {},
   "source": [
    "## Separate train and test "
   ]
  },
  {
   "cell_type": "code",
   "execution_count": 7,
   "metadata": {},
   "outputs": [],
   "source": [
    "# Add lags\n",
    "def generate_lags(df, num_lags):\n",
    "    \"\"\"\n",
    "    Creates new features which are lags of the target variable\n",
    "    Parameters\n",
    "    ----------\n",
    "    df: pd.DataFrame\n",
    "        input dataframe\n",
    "    num_lags: int\n",
    "        the number of lags\n",
    "\n",
    "    Returns\n",
    "    ----------\n",
    "    df_tmp: pd.DataFrame\n",
    "        dataframe with lagged features created\n",
    "    \"\"\"\n",
    "    df_tmp = df.copy()\n",
    "    for n in range(1, num_lags+1):\n",
    "        df_tmp[f'lag{n}'] = df_tmp['target'].shift(n)\n",
    "    df_tmp = df_tmp.iloc[num_lags:]\n",
    "    return df_tmp"
   ]
  },
  {
   "cell_type": "code",
   "execution_count": 8,
   "metadata": {},
   "outputs": [],
   "source": [
    "tot_lags = 10\n",
    "df_train = generate_lags(df=df_train, num_lags=tot_lags)\n",
    "df_test = generate_lags(df=df_test, num_lags=tot_lags)"
   ]
  },
  {
   "cell_type": "code",
   "execution_count": 9,
   "metadata": {},
   "outputs": [
    {
     "data": {
      "text/html": [
       "<div>\n",
       "<style scoped>\n",
       "    .dataframe tbody tr th:only-of-type {\n",
       "        vertical-align: middle;\n",
       "    }\n",
       "\n",
       "    .dataframe tbody tr th {\n",
       "        vertical-align: top;\n",
       "    }\n",
       "\n",
       "    .dataframe thead th {\n",
       "        text-align: right;\n",
       "    }\n",
       "</style>\n",
       "<table border=\"1\" class=\"dataframe\">\n",
       "  <thead>\n",
       "    <tr style=\"text-align: right;\">\n",
       "      <th></th>\n",
       "      <th>target</th>\n",
       "      <th>lag1</th>\n",
       "      <th>lag2</th>\n",
       "      <th>lag3</th>\n",
       "      <th>lag4</th>\n",
       "      <th>lag5</th>\n",
       "      <th>lag6</th>\n",
       "      <th>lag7</th>\n",
       "      <th>lag8</th>\n",
       "      <th>lag9</th>\n",
       "      <th>lag10</th>\n",
       "    </tr>\n",
       "    <tr>\n",
       "      <th>Datetime</th>\n",
       "      <th></th>\n",
       "      <th></th>\n",
       "      <th></th>\n",
       "      <th></th>\n",
       "      <th></th>\n",
       "      <th></th>\n",
       "      <th></th>\n",
       "      <th></th>\n",
       "      <th></th>\n",
       "      <th></th>\n",
       "      <th></th>\n",
       "    </tr>\n",
       "  </thead>\n",
       "  <tbody>\n",
       "    <tr>\n",
       "      <th>2002-01-01 11:00:00</th>\n",
       "      <td>31395.0</td>\n",
       "      <td>30692.0</td>\n",
       "      <td>29943.0</td>\n",
       "      <td>29595.0</td>\n",
       "      <td>29308.0</td>\n",
       "      <td>28654.0</td>\n",
       "      <td>28057.0</td>\n",
       "      <td>27899.0</td>\n",
       "      <td>28357.0</td>\n",
       "      <td>29265.0</td>\n",
       "      <td>30393.0</td>\n",
       "    </tr>\n",
       "    <tr>\n",
       "      <th>2002-01-01 12:00:00</th>\n",
       "      <td>31496.0</td>\n",
       "      <td>31395.0</td>\n",
       "      <td>30692.0</td>\n",
       "      <td>29943.0</td>\n",
       "      <td>29595.0</td>\n",
       "      <td>29308.0</td>\n",
       "      <td>28654.0</td>\n",
       "      <td>28057.0</td>\n",
       "      <td>27899.0</td>\n",
       "      <td>28357.0</td>\n",
       "      <td>29265.0</td>\n",
       "    </tr>\n",
       "    <tr>\n",
       "      <th>2002-01-01 13:00:00</th>\n",
       "      <td>31031.0</td>\n",
       "      <td>31496.0</td>\n",
       "      <td>31395.0</td>\n",
       "      <td>30692.0</td>\n",
       "      <td>29943.0</td>\n",
       "      <td>29595.0</td>\n",
       "      <td>29308.0</td>\n",
       "      <td>28654.0</td>\n",
       "      <td>28057.0</td>\n",
       "      <td>27899.0</td>\n",
       "      <td>28357.0</td>\n",
       "    </tr>\n",
       "    <tr>\n",
       "      <th>2002-01-01 14:00:00</th>\n",
       "      <td>30360.0</td>\n",
       "      <td>31031.0</td>\n",
       "      <td>31496.0</td>\n",
       "      <td>31395.0</td>\n",
       "      <td>30692.0</td>\n",
       "      <td>29943.0</td>\n",
       "      <td>29595.0</td>\n",
       "      <td>29308.0</td>\n",
       "      <td>28654.0</td>\n",
       "      <td>28057.0</td>\n",
       "      <td>27899.0</td>\n",
       "    </tr>\n",
       "    <tr>\n",
       "      <th>2002-01-01 15:00:00</th>\n",
       "      <td>29798.0</td>\n",
       "      <td>30360.0</td>\n",
       "      <td>31031.0</td>\n",
       "      <td>31496.0</td>\n",
       "      <td>31395.0</td>\n",
       "      <td>30692.0</td>\n",
       "      <td>29943.0</td>\n",
       "      <td>29595.0</td>\n",
       "      <td>29308.0</td>\n",
       "      <td>28654.0</td>\n",
       "      <td>28057.0</td>\n",
       "    </tr>\n",
       "  </tbody>\n",
       "</table>\n",
       "</div>"
      ],
      "text/plain": [
       "                      target     lag1     lag2     lag3     lag4     lag5  \\\n",
       "Datetime                                                                    \n",
       "2002-01-01 11:00:00  31395.0  30692.0  29943.0  29595.0  29308.0  28654.0   \n",
       "2002-01-01 12:00:00  31496.0  31395.0  30692.0  29943.0  29595.0  29308.0   \n",
       "2002-01-01 13:00:00  31031.0  31496.0  31395.0  30692.0  29943.0  29595.0   \n",
       "2002-01-01 14:00:00  30360.0  31031.0  31496.0  31395.0  30692.0  29943.0   \n",
       "2002-01-01 15:00:00  29798.0  30360.0  31031.0  31496.0  31395.0  30692.0   \n",
       "\n",
       "                        lag6     lag7     lag8     lag9    lag10  \n",
       "Datetime                                                          \n",
       "2002-01-01 11:00:00  28057.0  27899.0  28357.0  29265.0  30393.0  \n",
       "2002-01-01 12:00:00  28654.0  28057.0  27899.0  28357.0  29265.0  \n",
       "2002-01-01 13:00:00  29308.0  28654.0  28057.0  27899.0  28357.0  \n",
       "2002-01-01 14:00:00  29595.0  29308.0  28654.0  28057.0  27899.0  \n",
       "2002-01-01 15:00:00  29943.0  29595.0  29308.0  28654.0  28057.0  "
      ]
     },
     "execution_count": 9,
     "metadata": {},
     "output_type": "execute_result"
    }
   ],
   "source": [
    "df_train.head()"
   ]
  },
  {
   "cell_type": "code",
   "execution_count": 10,
   "metadata": {},
   "outputs": [
    {
     "data": {
      "text/html": [
       "<div>\n",
       "<style scoped>\n",
       "    .dataframe tbody tr th:only-of-type {\n",
       "        vertical-align: middle;\n",
       "    }\n",
       "\n",
       "    .dataframe tbody tr th {\n",
       "        vertical-align: top;\n",
       "    }\n",
       "\n",
       "    .dataframe thead th {\n",
       "        text-align: right;\n",
       "    }\n",
       "</style>\n",
       "<table border=\"1\" class=\"dataframe\">\n",
       "  <thead>\n",
       "    <tr style=\"text-align: right;\">\n",
       "      <th></th>\n",
       "      <th>target</th>\n",
       "      <th>lag1</th>\n",
       "      <th>lag2</th>\n",
       "      <th>lag3</th>\n",
       "      <th>lag4</th>\n",
       "      <th>lag5</th>\n",
       "      <th>lag6</th>\n",
       "      <th>lag7</th>\n",
       "      <th>lag8</th>\n",
       "      <th>lag9</th>\n",
       "      <th>lag10</th>\n",
       "    </tr>\n",
       "    <tr>\n",
       "      <th>Datetime</th>\n",
       "      <th></th>\n",
       "      <th></th>\n",
       "      <th></th>\n",
       "      <th></th>\n",
       "      <th></th>\n",
       "      <th></th>\n",
       "      <th></th>\n",
       "      <th></th>\n",
       "      <th></th>\n",
       "      <th></th>\n",
       "      <th></th>\n",
       "    </tr>\n",
       "  </thead>\n",
       "  <tbody>\n",
       "    <tr>\n",
       "      <th>2015-04-10 01:00:00</th>\n",
       "      <td>26208.0</td>\n",
       "      <td>27846.0</td>\n",
       "      <td>30060.0</td>\n",
       "      <td>32363.0</td>\n",
       "      <td>33755.0</td>\n",
       "      <td>33843.0</td>\n",
       "      <td>33012.0</td>\n",
       "      <td>32707.0</td>\n",
       "      <td>32209.0</td>\n",
       "      <td>32049.0</td>\n",
       "      <td>32204.0</td>\n",
       "    </tr>\n",
       "    <tr>\n",
       "      <th>2015-04-10 02:00:00</th>\n",
       "      <td>25240.0</td>\n",
       "      <td>26208.0</td>\n",
       "      <td>27846.0</td>\n",
       "      <td>30060.0</td>\n",
       "      <td>32363.0</td>\n",
       "      <td>33755.0</td>\n",
       "      <td>33843.0</td>\n",
       "      <td>33012.0</td>\n",
       "      <td>32707.0</td>\n",
       "      <td>32209.0</td>\n",
       "      <td>32049.0</td>\n",
       "    </tr>\n",
       "    <tr>\n",
       "      <th>2015-04-10 03:00:00</th>\n",
       "      <td>24753.0</td>\n",
       "      <td>25240.0</td>\n",
       "      <td>26208.0</td>\n",
       "      <td>27846.0</td>\n",
       "      <td>30060.0</td>\n",
       "      <td>32363.0</td>\n",
       "      <td>33755.0</td>\n",
       "      <td>33843.0</td>\n",
       "      <td>33012.0</td>\n",
       "      <td>32707.0</td>\n",
       "      <td>32209.0</td>\n",
       "    </tr>\n",
       "    <tr>\n",
       "      <th>2015-04-10 04:00:00</th>\n",
       "      <td>24694.0</td>\n",
       "      <td>24753.0</td>\n",
       "      <td>25240.0</td>\n",
       "      <td>26208.0</td>\n",
       "      <td>27846.0</td>\n",
       "      <td>30060.0</td>\n",
       "      <td>32363.0</td>\n",
       "      <td>33755.0</td>\n",
       "      <td>33843.0</td>\n",
       "      <td>33012.0</td>\n",
       "      <td>32707.0</td>\n",
       "    </tr>\n",
       "    <tr>\n",
       "      <th>2015-04-10 05:00:00</th>\n",
       "      <td>25232.0</td>\n",
       "      <td>24694.0</td>\n",
       "      <td>24753.0</td>\n",
       "      <td>25240.0</td>\n",
       "      <td>26208.0</td>\n",
       "      <td>27846.0</td>\n",
       "      <td>30060.0</td>\n",
       "      <td>32363.0</td>\n",
       "      <td>33755.0</td>\n",
       "      <td>33843.0</td>\n",
       "      <td>33012.0</td>\n",
       "    </tr>\n",
       "  </tbody>\n",
       "</table>\n",
       "</div>"
      ],
      "text/plain": [
       "                      target     lag1     lag2     lag3     lag4     lag5  \\\n",
       "Datetime                                                                    \n",
       "2015-04-10 01:00:00  26208.0  27846.0  30060.0  32363.0  33755.0  33843.0   \n",
       "2015-04-10 02:00:00  25240.0  26208.0  27846.0  30060.0  32363.0  33755.0   \n",
       "2015-04-10 03:00:00  24753.0  25240.0  26208.0  27846.0  30060.0  32363.0   \n",
       "2015-04-10 04:00:00  24694.0  24753.0  25240.0  26208.0  27846.0  30060.0   \n",
       "2015-04-10 05:00:00  25232.0  24694.0  24753.0  25240.0  26208.0  27846.0   \n",
       "\n",
       "                        lag6     lag7     lag8     lag9    lag10  \n",
       "Datetime                                                          \n",
       "2015-04-10 01:00:00  33012.0  32707.0  32209.0  32049.0  32204.0  \n",
       "2015-04-10 02:00:00  33843.0  33012.0  32707.0  32209.0  32049.0  \n",
       "2015-04-10 03:00:00  33755.0  33843.0  33012.0  32707.0  32209.0  \n",
       "2015-04-10 04:00:00  32363.0  33755.0  33843.0  33012.0  32707.0  \n",
       "2015-04-10 05:00:00  30060.0  32363.0  33755.0  33843.0  33012.0  "
      ]
     },
     "execution_count": 10,
     "metadata": {},
     "output_type": "execute_result"
    }
   ],
   "source": [
    "df_test.head()"
   ]
  },
  {
   "cell_type": "code",
   "execution_count": 11,
   "metadata": {},
   "outputs": [
    {
     "name": "stdout",
     "output_type": "stream",
     "text": [
      "Shape of X_train and y_train: ((116282, 10), (116282,))\n",
      "Shape of X_test and y_test: ((29064, 10), (29064,))\n"
     ]
    }
   ],
   "source": [
    "X_train, y_train = (\n",
    "    df_train.drop(columns=['target']),\n",
    "    df_train['target']\n",
    ")\n",
    "X_test, y_test = (\n",
    "    df_test.drop(columns=['target']),\n",
    "    df_test['target']\n",
    ")\n",
    "\n",
    "# Print shapes of the resulting train and test data sets\n",
    "print(f'Shape of X_train and y_train: {X_train.shape, y_train.shape}')\n",
    "print(f'Shape of X_test and y_test: {X_test.shape, y_test.shape}')"
   ]
  },
  {
   "cell_type": "markdown",
   "metadata": {},
   "source": [
    "## Feature Engineering Using Pipeline Transformations"
   ]
  },
  {
   "cell_type": "markdown",
   "metadata": {},
   "source": [
    "#### Custom Transformer for Automated Feature extraction"
   ]
  },
  {
   "cell_type": "code",
   "execution_count": 12,
   "metadata": {},
   "outputs": [],
   "source": [
    "class UniveriateTimeSeriesAddFeatures(BaseEstimator, TransformerMixin):\n",
    "    def __init__(self, num_lags=10):\n",
    "        self.num_lags = num_lags\n",
    "        \n",
    "    def __extract_features(self, X):\n",
    "        \"\"\"\n",
    "        Creates new features from timestamp\n",
    "        Parameters\n",
    "        ----------\n",
    "        X: pd.DataFrame\n",
    "            input dataframe\n",
    "        \n",
    "        Returns\n",
    "        ----------\n",
    "        df_features: pd.DataFrame\n",
    "            dataframe with new features created\n",
    "        \"\"\"\n",
    "        df_features = X.copy()\n",
    "        df_features = (\n",
    "                df_features\n",
    "                .assign(hour = df_features.index.hour)\n",
    "                .assign(day = df_features.index.day)\n",
    "                .assign(month = df_features.index.month)\n",
    "                .assign(day_of_week = df_features.index.dayofweek)\n",
    "                # .assign(week_of_year = df.index.isocalendar().week)\n",
    "        )\n",
    "        df_features = df_features.reset_index()\n",
    "        return df_features\n",
    "    \n",
    "    def fit(self, X, y=None):\n",
    "        return self\n",
    "\n",
    "    def transform(self, X, y=None):\n",
    "        df_features = X.copy()\n",
    "        df_features = self.__extract_features(df_features)\n",
    "        df_features = df_features.iloc[:,1:]\n",
    "        return df_features"
   ]
  },
  {
   "cell_type": "code",
   "execution_count": 13,
   "metadata": {},
   "outputs": [],
   "source": [
    "preprocessor = Pipeline(\n",
    "    [\n",
    "        ('add_lag_step', UniveriateTimeSeriesAddFeatures(num_lags=10)),\n",
    "        ('stdscaler', StandardScaler())\n",
    "    ]\n",
    ")"
   ]
  },
  {
   "cell_type": "code",
   "execution_count": null,
   "metadata": {},
   "outputs": [],
   "source": [
    "# preprocessor.fit_transform(X_train)"
   ]
  },
  {
   "cell_type": "code",
   "execution_count": null,
   "metadata": {},
   "outputs": [],
   "source": [
    "# preprocessor.fit_transform(X_train).shape"
   ]
  },
  {
   "cell_type": "markdown",
   "metadata": {},
   "source": [
    "#### Models"
   ]
  },
  {
   "cell_type": "code",
   "execution_count": 14,
   "metadata": {},
   "outputs": [],
   "source": [
    "def mape(true, pred):\n",
    "    return 100.0 * np.mean(np.abs((pred - true) / true))\n",
    "\n",
    "\n",
    "# make a scorer function that we can pass into cross-validation\n",
    "mape_scorer = make_scorer(mape, greater_is_better=False)\n",
    "\n",
    "scoring_metrics = {\n",
    "    \"neg RMSE\": \"neg_root_mean_squared_error\",\n",
    "    \"r2\": \"r2\",\n",
    "    \"mape\": mape_scorer,\n",
    "}"
   ]
  },
  {
   "cell_type": "code",
   "execution_count": 15,
   "metadata": {},
   "outputs": [],
   "source": [
    "# Function to collate results - Attribution to UBC MDS 571/573 course code for this function\n",
    "def mean_std_cross_val_scores(model, X_train, y_train, **kwargs):\n",
    "    \"\"\"\n",
    "    Returns mean and std of cross validation\n",
    "\n",
    "    Parameters\n",
    "    ----------\n",
    "    model :\n",
    "        scikit-learn model\n",
    "    X_train : numpy array or pandas DataFrame\n",
    "        X in the training data\n",
    "    y_train :\n",
    "        y in the training data\n",
    "\n",
    "    Returns\n",
    "    ----------\n",
    "        pandas Series with mean scores from cross_validation\n",
    "    \"\"\"\n",
    "\n",
    "    scores = cross_validate(model, X_train, y_train, **kwargs)\n",
    "\n",
    "    mean_scores = pd.DataFrame(scores).mean()\n",
    "    std_scores = pd.DataFrame(scores).std()\n",
    "    out_col = []\n",
    "\n",
    "    for i in range(len(mean_scores)):\n",
    "        out_col.append((f\"%0.3f (+/- %0.3f)\" % (mean_scores[i], std_scores[i])))\n",
    "\n",
    "    return pd.Series(data=out_col, index=mean_scores.index)"
   ]
  },
  {
   "cell_type": "code",
   "execution_count": 16,
   "metadata": {},
   "outputs": [],
   "source": [
    "results = {}"
   ]
  },
  {
   "cell_type": "markdown",
   "metadata": {},
   "source": [
    "#### Dummy Regressor"
   ]
  },
  {
   "cell_type": "code",
   "execution_count": 17,
   "metadata": {},
   "outputs": [
    {
     "data": {
      "text/html": [
       "<div>\n",
       "<style scoped>\n",
       "    .dataframe tbody tr th:only-of-type {\n",
       "        vertical-align: middle;\n",
       "    }\n",
       "\n",
       "    .dataframe tbody tr th {\n",
       "        vertical-align: top;\n",
       "    }\n",
       "\n",
       "    .dataframe thead th {\n",
       "        text-align: right;\n",
       "    }\n",
       "</style>\n",
       "<table border=\"1\" class=\"dataframe\">\n",
       "  <thead>\n",
       "    <tr style=\"text-align: right;\">\n",
       "      <th></th>\n",
       "      <th>Dummy</th>\n",
       "    </tr>\n",
       "  </thead>\n",
       "  <tbody>\n",
       "    <tr>\n",
       "      <th>fit_time</th>\n",
       "      <td>0.008 (+/- 0.008)</td>\n",
       "    </tr>\n",
       "    <tr>\n",
       "      <th>score_time</th>\n",
       "      <td>0.001 (+/- 0.001)</td>\n",
       "    </tr>\n",
       "    <tr>\n",
       "      <th>test_neg RMSE</th>\n",
       "      <td>-6437.908 (+/- 249.131)</td>\n",
       "    </tr>\n",
       "    <tr>\n",
       "      <th>train_neg RMSE</th>\n",
       "      <td>-6433.014 (+/- 63.618)</td>\n",
       "    </tr>\n",
       "    <tr>\n",
       "      <th>test_r2</th>\n",
       "      <td>-0.007 (+/- 0.006)</td>\n",
       "    </tr>\n",
       "    <tr>\n",
       "      <th>train_r2</th>\n",
       "      <td>0.000 (+/- 0.000)</td>\n",
       "    </tr>\n",
       "    <tr>\n",
       "      <th>test_mape</th>\n",
       "      <td>-15.875 (+/- 0.611)</td>\n",
       "    </tr>\n",
       "    <tr>\n",
       "      <th>train_mape</th>\n",
       "      <td>-15.854 (+/- 0.091)</td>\n",
       "    </tr>\n",
       "  </tbody>\n",
       "</table>\n",
       "</div>"
      ],
      "text/plain": [
       "                                  Dummy\n",
       "fit_time              0.008 (+/- 0.008)\n",
       "score_time            0.001 (+/- 0.001)\n",
       "test_neg RMSE   -6437.908 (+/- 249.131)\n",
       "train_neg RMSE   -6433.014 (+/- 63.618)\n",
       "test_r2              -0.007 (+/- 0.006)\n",
       "train_r2              0.000 (+/- 0.000)\n",
       "test_mape           -15.875 (+/- 0.611)\n",
       "train_mape          -15.854 (+/- 0.091)"
      ]
     },
     "execution_count": 17,
     "metadata": {},
     "output_type": "execute_result"
    }
   ],
   "source": [
    "dummy = DummyRegressor()\n",
    "\n",
    "results[\"Dummy\"] = mean_std_cross_val_scores(\n",
    "    dummy, X_train, y_train, return_train_score=True, scoring=scoring_metrics\n",
    ")\n",
    "\n",
    "pd.DataFrame(results)"
   ]
  },
  {
   "cell_type": "markdown",
   "metadata": {},
   "source": [
    "#### Other Models"
   ]
  },
  {
   "cell_type": "code",
   "execution_count": 18,
   "metadata": {},
   "outputs": [],
   "source": [
    "pipe_ridge = make_pipeline(preprocessor, Ridge(random_state=123))\n",
    "pipe_xgb = make_pipeline(preprocessor, XGBRegressor(random_state=123))\n",
    "pipe_rf = make_pipeline(preprocessor, RandomForestRegressor(random_state=123))\n",
    "\n",
    "models = {\n",
    "    'ridge': pipe_ridge,\n",
    "    'xgboost': pipe_xgb,\n",
    "    'rf_regressor': pipe_rf\n",
    "}"
   ]
  },
  {
   "cell_type": "code",
   "execution_count": 19,
   "metadata": {},
   "outputs": [
    {
     "data": {
      "text/html": [
       "<div>\n",
       "<style scoped>\n",
       "    .dataframe tbody tr th:only-of-type {\n",
       "        vertical-align: middle;\n",
       "    }\n",
       "\n",
       "    .dataframe tbody tr th {\n",
       "        vertical-align: top;\n",
       "    }\n",
       "\n",
       "    .dataframe thead th {\n",
       "        text-align: right;\n",
       "    }\n",
       "</style>\n",
       "<table border=\"1\" class=\"dataframe\">\n",
       "  <thead>\n",
       "    <tr style=\"text-align: right;\">\n",
       "      <th></th>\n",
       "      <th>Dummy</th>\n",
       "      <th>ridge</th>\n",
       "      <th>xgboost</th>\n",
       "      <th>rf_regressor</th>\n",
       "    </tr>\n",
       "  </thead>\n",
       "  <tbody>\n",
       "    <tr>\n",
       "      <th>fit_time</th>\n",
       "      <td>0.008 (+/- 0.008)</td>\n",
       "      <td>0.049 (+/- 0.022)</td>\n",
       "      <td>4.862 (+/- 0.029)</td>\n",
       "      <td>73.127 (+/- 0.349)</td>\n",
       "    </tr>\n",
       "    <tr>\n",
       "      <th>score_time</th>\n",
       "      <td>0.001 (+/- 0.001)</td>\n",
       "      <td>0.008 (+/- 0.000)</td>\n",
       "      <td>0.023 (+/- 0.005)</td>\n",
       "      <td>0.752 (+/- 0.058)</td>\n",
       "    </tr>\n",
       "    <tr>\n",
       "      <th>test_neg RMSE</th>\n",
       "      <td>-6437.908 (+/- 249.131)</td>\n",
       "      <td>-664.090 (+/- 30.887)</td>\n",
       "      <td>-329.928 (+/- 17.854)</td>\n",
       "      <td>-329.608 (+/- 22.237)</td>\n",
       "    </tr>\n",
       "    <tr>\n",
       "      <th>train_neg RMSE</th>\n",
       "      <td>-6433.014 (+/- 63.618)</td>\n",
       "      <td>-664.094 (+/- 7.687)</td>\n",
       "      <td>-279.970 (+/- 3.244)</td>\n",
       "      <td>-118.130 (+/- 0.982)</td>\n",
       "    </tr>\n",
       "    <tr>\n",
       "      <th>test_r2</th>\n",
       "      <td>-0.007 (+/- 0.006)</td>\n",
       "      <td>0.989 (+/- 0.001)</td>\n",
       "      <td>0.997 (+/- 0.000)</td>\n",
       "      <td>0.997 (+/- 0.001)</td>\n",
       "    </tr>\n",
       "    <tr>\n",
       "      <th>train_r2</th>\n",
       "      <td>0.000 (+/- 0.000)</td>\n",
       "      <td>0.989 (+/- 0.000)</td>\n",
       "      <td>0.998 (+/- 0.000)</td>\n",
       "      <td>1.000 (+/- 0.000)</td>\n",
       "    </tr>\n",
       "    <tr>\n",
       "      <th>test_mape</th>\n",
       "      <td>-15.875 (+/- 0.611)</td>\n",
       "      <td>-1.428 (+/- 0.053)</td>\n",
       "      <td>-0.729 (+/- 0.046)</td>\n",
       "      <td>-0.674 (+/- 0.057)</td>\n",
       "    </tr>\n",
       "    <tr>\n",
       "      <th>train_mape</th>\n",
       "      <td>-15.854 (+/- 0.091)</td>\n",
       "      <td>-1.426 (+/- 0.016)</td>\n",
       "      <td>-0.633 (+/- 0.008)</td>\n",
       "      <td>-0.239 (+/- 0.003)</td>\n",
       "    </tr>\n",
       "  </tbody>\n",
       "</table>\n",
       "</div>"
      ],
      "text/plain": [
       "                                  Dummy                  ridge  \\\n",
       "fit_time              0.008 (+/- 0.008)      0.049 (+/- 0.022)   \n",
       "score_time            0.001 (+/- 0.001)      0.008 (+/- 0.000)   \n",
       "test_neg RMSE   -6437.908 (+/- 249.131)  -664.090 (+/- 30.887)   \n",
       "train_neg RMSE   -6433.014 (+/- 63.618)   -664.094 (+/- 7.687)   \n",
       "test_r2              -0.007 (+/- 0.006)      0.989 (+/- 0.001)   \n",
       "train_r2              0.000 (+/- 0.000)      0.989 (+/- 0.000)   \n",
       "test_mape           -15.875 (+/- 0.611)     -1.428 (+/- 0.053)   \n",
       "train_mape          -15.854 (+/- 0.091)     -1.426 (+/- 0.016)   \n",
       "\n",
       "                              xgboost           rf_regressor  \n",
       "fit_time            4.862 (+/- 0.029)     73.127 (+/- 0.349)  \n",
       "score_time          0.023 (+/- 0.005)      0.752 (+/- 0.058)  \n",
       "test_neg RMSE   -329.928 (+/- 17.854)  -329.608 (+/- 22.237)  \n",
       "train_neg RMSE   -279.970 (+/- 3.244)   -118.130 (+/- 0.982)  \n",
       "test_r2             0.997 (+/- 0.000)      0.997 (+/- 0.001)  \n",
       "train_r2            0.998 (+/- 0.000)      1.000 (+/- 0.000)  \n",
       "test_mape          -0.729 (+/- 0.046)     -0.674 (+/- 0.057)  \n",
       "train_mape         -0.633 (+/- 0.008)     -0.239 (+/- 0.003)  "
      ]
     },
     "execution_count": 19,
     "metadata": {},
     "output_type": "execute_result"
    }
   ],
   "source": [
    "for (name, model) in models.items():\n",
    "    results[name] = mean_std_cross_val_scores(\n",
    "        model, X_train, y_train, return_train_score=True, scoring=scoring_metrics\n",
    "    )\n",
    "\n",
    "pd.DataFrame(results)"
   ]
  },
  {
   "cell_type": "markdown",
   "metadata": {},
   "source": [
    "#### Best Model (Example of XGBRegressor provided below)"
   ]
  },
  {
   "cell_type": "code",
   "execution_count": 20,
   "metadata": {},
   "outputs": [
    {
     "data": {
      "text/plain": [
       "Pipeline(steps=[('pipeline',\n",
       "                 Pipeline(steps=[('add_lag_step',\n",
       "                                  UniveriateTimeSeriesAddFeatures()),\n",
       "                                 ('stdscaler', StandardScaler())])),\n",
       "                ('xgbregressor',\n",
       "                 XGBRegressor(base_score=0.5, booster='gbtree',\n",
       "                              colsample_bylevel=1, colsample_bynode=1,\n",
       "                              colsample_bytree=1, gamma=0, gpu_id=-1,\n",
       "                              importance_type='gain',\n",
       "                              interaction_constraints='',\n",
       "                              learning_rate=0.300000012, max_delta_step=0,\n",
       "                              max_depth=6, min_child_weight=1, missing=nan,\n",
       "                              monotone_constraints='()', n_estimators=100,\n",
       "                              n_jobs=8, num_parallel_tree=1, random_state=123,\n",
       "                              reg_alpha=0, reg_lambda=1, scale_pos_weight=1,\n",
       "                              subsample=1, tree_method='exact',\n",
       "                              validate_parameters=1, verbosity=None))])"
      ]
     },
     "execution_count": 20,
     "metadata": {},
     "output_type": "execute_result"
    }
   ],
   "source": [
    "pipe_xgb.fit(X_train, y_train)"
   ]
  },
  {
   "cell_type": "code",
   "execution_count": 21,
   "metadata": {},
   "outputs": [],
   "source": [
    "preds = pipe_xgb.predict(X_test)"
   ]
  },
  {
   "cell_type": "code",
   "execution_count": 22,
   "metadata": {},
   "outputs": [
    {
     "data": {
      "text/html": [
       "<div>\n",
       "<style scoped>\n",
       "    .dataframe tbody tr th:only-of-type {\n",
       "        vertical-align: middle;\n",
       "    }\n",
       "\n",
       "    .dataframe tbody tr th {\n",
       "        vertical-align: top;\n",
       "    }\n",
       "\n",
       "    .dataframe thead th {\n",
       "        text-align: right;\n",
       "    }\n",
       "</style>\n",
       "<table border=\"1\" class=\"dataframe\">\n",
       "  <thead>\n",
       "    <tr style=\"text-align: right;\">\n",
       "      <th></th>\n",
       "      <th>Datetime</th>\n",
       "      <th>target</th>\n",
       "      <th>predicted</th>\n",
       "    </tr>\n",
       "  </thead>\n",
       "  <tbody>\n",
       "    <tr>\n",
       "      <th>0</th>\n",
       "      <td>2015-04-10 01:00:00</td>\n",
       "      <td>26208.0</td>\n",
       "      <td>25811.210938</td>\n",
       "    </tr>\n",
       "    <tr>\n",
       "      <th>1</th>\n",
       "      <td>2015-04-10 02:00:00</td>\n",
       "      <td>25240.0</td>\n",
       "      <td>24747.173828</td>\n",
       "    </tr>\n",
       "    <tr>\n",
       "      <th>2</th>\n",
       "      <td>2015-04-10 03:00:00</td>\n",
       "      <td>24753.0</td>\n",
       "      <td>24642.636719</td>\n",
       "    </tr>\n",
       "    <tr>\n",
       "      <th>3</th>\n",
       "      <td>2015-04-10 04:00:00</td>\n",
       "      <td>24694.0</td>\n",
       "      <td>24422.410156</td>\n",
       "    </tr>\n",
       "    <tr>\n",
       "      <th>4</th>\n",
       "      <td>2015-04-10 05:00:00</td>\n",
       "      <td>25232.0</td>\n",
       "      <td>25008.623047</td>\n",
       "    </tr>\n",
       "  </tbody>\n",
       "</table>\n",
       "</div>"
      ],
      "text/plain": [
       "             Datetime   target     predicted\n",
       "0 2015-04-10 01:00:00  26208.0  25811.210938\n",
       "1 2015-04-10 02:00:00  25240.0  24747.173828\n",
       "2 2015-04-10 03:00:00  24753.0  24642.636719\n",
       "3 2015-04-10 04:00:00  24694.0  24422.410156\n",
       "4 2015-04-10 05:00:00  25232.0  25008.623047"
      ]
     },
     "execution_count": 22,
     "metadata": {},
     "output_type": "execute_result"
    }
   ],
   "source": [
    "actual_vs_pred_df = y_test.reset_index()\n",
    "actual_vs_pred_df['predicted'] = preds\n",
    "actual_vs_pred_df.head()"
   ]
  },
  {
   "cell_type": "code",
   "execution_count": 23,
   "metadata": {},
   "outputs": [
    {
     "data": {
      "text/html": [
       "<div>\n",
       "<style scoped>\n",
       "    .dataframe tbody tr th:only-of-type {\n",
       "        vertical-align: middle;\n",
       "    }\n",
       "\n",
       "    .dataframe tbody tr th {\n",
       "        vertical-align: top;\n",
       "    }\n",
       "\n",
       "    .dataframe thead th {\n",
       "        text-align: right;\n",
       "    }\n",
       "</style>\n",
       "<table border=\"1\" class=\"dataframe\">\n",
       "  <thead>\n",
       "    <tr style=\"text-align: right;\">\n",
       "      <th></th>\n",
       "      <th>Datetime</th>\n",
       "      <th>variable</th>\n",
       "      <th>value</th>\n",
       "    </tr>\n",
       "  </thead>\n",
       "  <tbody>\n",
       "    <tr>\n",
       "      <th>58123</th>\n",
       "      <td>2018-08-02 20:00:00</td>\n",
       "      <td>predicted</td>\n",
       "      <td>44161.867188</td>\n",
       "    </tr>\n",
       "    <tr>\n",
       "      <th>58124</th>\n",
       "      <td>2018-08-02 21:00:00</td>\n",
       "      <td>predicted</td>\n",
       "      <td>43458.199219</td>\n",
       "    </tr>\n",
       "    <tr>\n",
       "      <th>58125</th>\n",
       "      <td>2018-08-02 22:00:00</td>\n",
       "      <td>predicted</td>\n",
       "      <td>41937.488281</td>\n",
       "    </tr>\n",
       "    <tr>\n",
       "      <th>58126</th>\n",
       "      <td>2018-08-02 23:00:00</td>\n",
       "      <td>predicted</td>\n",
       "      <td>38635.917969</td>\n",
       "    </tr>\n",
       "    <tr>\n",
       "      <th>58127</th>\n",
       "      <td>2018-08-03 00:00:00</td>\n",
       "      <td>predicted</td>\n",
       "      <td>34957.195312</td>\n",
       "    </tr>\n",
       "  </tbody>\n",
       "</table>\n",
       "</div>"
      ],
      "text/plain": [
       "                 Datetime   variable         value\n",
       "58123 2018-08-02 20:00:00  predicted  44161.867188\n",
       "58124 2018-08-02 21:00:00  predicted  43458.199219\n",
       "58125 2018-08-02 22:00:00  predicted  41937.488281\n",
       "58126 2018-08-02 23:00:00  predicted  38635.917969\n",
       "58127 2018-08-03 00:00:00  predicted  34957.195312"
      ]
     },
     "execution_count": 23,
     "metadata": {},
     "output_type": "execute_result"
    }
   ],
   "source": [
    "actual_vs_pred_df_long = pd.melt(actual_vs_pred_df, id_vars='Datetime')\n",
    "\n",
    "actual_vs_pred_df_long.tail()"
   ]
  },
  {
   "cell_type": "code",
   "execution_count": 24,
   "metadata": {},
   "outputs": [
    {
     "data": {
      "application/vnd.vegalite.v4+json": {
       "$schema": "https://vega.github.io/schema/vega-lite/v4.8.1.json",
       "config": {
        "view": {
         "continuousHeight": 300,
         "continuousWidth": 400
        }
       },
       "data": {
        "url": "http://localhost:16905/6c87be378fd29689591a545f030c9410.json"
       },
       "encoding": {
        "color": {
         "field": "variable",
         "title": "Type",
         "type": "nominal"
        },
        "x": {
         "field": "Datetime",
         "title": "Datetime",
         "type": "temporal"
        },
        "y": {
         "field": "value",
         "title": "Actual vs Predicted",
         "type": "quantitative"
        }
       },
       "mark": "line",
       "selection": {
        "selector001": {
         "bind": "scales",
         "encodings": [
          "x",
          "y"
         ],
         "type": "interval"
        }
       },
       "width": 700
      },
      "text/plain": [
       "<VegaLite 4 object>\n",
       "\n",
       "If you see this message, it means the renderer has not been properly enabled\n",
       "for the frontend that you are using. For more information, see\n",
       "https://altair-viz.github.io/user_guide/troubleshooting.html\n"
      ]
     },
     "execution_count": 24,
     "metadata": {},
     "output_type": "execute_result"
    }
   ],
   "source": [
    "# Visualize the actual vs predicted chart for the last 2 days of the test data period\n",
    "alt.Chart(actual_vs_pred_df_long[actual_vs_pred_df_long.Datetime > '2018-07-24']).mark_line().encode(\n",
    "    x=alt.X('Datetime', type='temporal', title='Datetime'),\n",
    "    y=alt.Y('value', type='quantitative', title='Actual vs Predicted'),\n",
    "    color=alt.Color('variable', title='Type')\n",
    ").properties(\n",
    "    width=700\n",
    ").interactive()"
   ]
  },
  {
   "cell_type": "code",
   "execution_count": 26,
   "metadata": {},
   "outputs": [
    {
     "name": "stdout",
     "output_type": "stream",
     "text": [
      "MAPE for test set: 0.824815046658205\n"
     ]
    }
   ],
   "source": [
    "print(f'MAPE for test set: {mape(actual_vs_pred_df[\"target\"], actual_vs_pred_df[\"predicted\"])}')"
   ]
  },
  {
   "cell_type": "code",
   "execution_count": null,
   "metadata": {},
   "outputs": [],
   "source": []
  }
 ],
 "metadata": {
  "interpreter": {
   "hash": "ae4e6b2e328c0ea4627e14bd093050c1271aa8df82847c52aa07c279e17c71ae"
  },
  "kernelspec": {
   "display_name": "Python 3.9.7 64-bit ('571': conda)",
   "language": "python",
   "name": "python3"
  },
  "language_info": {
   "codemirror_mode": {
    "name": "ipython",
    "version": 3
   },
   "file_extension": ".py",
   "mimetype": "text/x-python",
   "name": "python",
   "nbconvert_exporter": "python",
   "pygments_lexer": "ipython3",
   "version": "3.9.7"
  },
  "orig_nbformat": 4
 },
 "nbformat": 4,
 "nbformat_minor": 2
}
